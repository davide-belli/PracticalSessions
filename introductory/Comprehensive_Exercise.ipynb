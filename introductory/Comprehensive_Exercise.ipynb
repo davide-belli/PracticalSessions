{
  "nbformat": 4,
  "nbformat_minor": 0,
  "metadata": {
    "colab": {
      "name": "Comprehensive_Exercise.ipynb",
      "version": "0.3.2",
      "provenance": [],
      "collapsed_sections": []
    },
    "kernelspec": {
      "name": "python2",
      "display_name": "Python 2"
    }
  },
  "cells": [
    {
      "cell_type": "markdown",
      "metadata": {
        "id": "iYx6oEVKcE_L",
        "colab_type": "text"
      },
      "source": [
        "# Exercise: putting everything together\n",
        "\n",
        "In this you will write code for a model that learns to classify mnist digits. You will use tensorflow, tracking training progress with matplotlib.\n",
        "\n",
        "For each sub-exercise, you have seen an example solution for it in one of the colabs leading up to this one."
      ]
    },
    {
      "cell_type": "code",
      "metadata": {
        "id": "TGBJLkR_cI3L",
        "colab_type": "code",
        "colab": {}
      },
      "source": [
        "from __future__ import absolute_import\n",
        "from __future__ import division\n",
        "from __future__ import print_function\n",
        "\n",
        "import random\n",
        "import seaborn as sns\n",
        "import numpy as np\n",
        "import tensorflow as tf\n",
        "import datetime\n",
        "\n",
        "from matplotlib import pyplot as plt\n",
        "from google.colab import files\n",
        "from scipy.stats import multivariate_normal\n",
        "from IPython.display import clear_output, Image, display, HTML\n",
        "\n",
        "sns.set_style('ticks')\n"
      ],
      "execution_count": 0,
      "outputs": []
    },
    {
      "cell_type": "code",
      "metadata": {
        "id": "5gkBQpjJlCgP",
        "colab_type": "code",
        "colab": {}
      },
      "source": [
        "tf.reset_default_graph()"
      ],
      "execution_count": 0,
      "outputs": []
    },
    {
      "cell_type": "code",
      "metadata": {
        "id": "nO_tMPdncmVy",
        "colab_type": "code",
        "outputId": "4f0ff3bd-c16d-4823-b921-d8594a621eb0",
        "colab": {
          "base_uri": "https://localhost:8080/",
          "height": 200
        }
      },
      "source": [
        "# Fetch the mnist data from tf.keras.datasets.mnist.\n",
        "\n",
        "mnist_train, mnist_test = tf.keras.datasets.mnist.load_data()\n",
        "\n",
        "# Check what the data is like:\n",
        "print('Training dataset:')\n",
        "train_input, train_label = mnist_train\n",
        "print('* input shape:', train_input.shape)\n",
        "print('* input min, mean, max:', train_input.min(), train_input.mean(), train_input.max())\n",
        "print('* input dtype:', train_input.dtype)\n",
        "print('* label shape:', train_label.shape)\n",
        "print('* label min, mean, max:', train_label.min(), train_label.mean(), train_label.max())\n",
        "print('* label dtype:', train_label.dtype)\n",
        "\n",
        "test_input, test_label = mnist_test\n",
        "print('Number of test examples:', test_input.shape[0])"
      ],
      "execution_count": 4,
      "outputs": [
        {
          "output_type": "stream",
          "text": [
            "Downloading data from https://storage.googleapis.com/tensorflow/tf-keras-datasets/mnist.npz\n",
            "11493376/11490434 [==============================] - 0s 0us/step\n",
            "11501568/11490434 [==============================] - 0s 0us/step\n",
            "Training dataset:\n",
            "* input shape: (60000, 28, 28)\n",
            "* input min, mean, max: 0 33.318421449829934 255\n",
            "* input dtype: uint8\n",
            "* label shape: (60000,)\n",
            "* label min, mean, max: 0 4.4539333333333335 9\n",
            "* label dtype: uint8\n",
            "Number of test examples: 10000\n"
          ],
          "name": "stdout"
        }
      ]
    },
    {
      "cell_type": "markdown",
      "metadata": {
        "id": "utL4ZmLrepoH",
        "colab_type": "text"
      },
      "source": [
        "Normalize the data into the \\[0, 1\\] interval. It's also a good idea to check the class distribution, but here we know that this is OK.\n",
        "\n"
      ]
    },
    {
      "cell_type": "code",
      "metadata": {
        "id": "60_4wXEPe7Ig",
        "colab_type": "code",
        "colab": {
          "base_uri": "https://localhost:8080/",
          "height": 116
        },
        "outputId": "597f4060-1fc8-497f-9eb5-e7d6420359e6"
      },
      "source": [
        "# Normalize both train_input and test_input so that it is in [0, 1].\n",
        "#\n",
        "# Also ensure the following data types:\n",
        "#\n",
        "# * train_input and test_input need to be np.float32.\n",
        "# * the labels need to be converted to np.int32.\n",
        "\n",
        "train_input, train_label = mnist_train\n",
        "test_input, test_label = mnist_test\n",
        "\n",
        "train_input = train_input.astype(np.float64) / 255\n",
        "test_input = test_input.astype(np.float64) / 255\n",
        "train_label = train_label.astype(np.int32)\n",
        "test_label = test_label.astype(np.int32)\n",
        "\n",
        "print('* input shape:', train_input.shape)\n",
        "print('* input min, mean, max:', train_input.min(), train_input.mean(), train_input.max())\n",
        "print('* input dtype:', train_input.dtype)\n",
        "print('* label shape:', train_label.shape)\n",
        "print('* label min, mean, max:', train_label.min(), train_label.mean(), train_label.max())\n",
        "print('* label dtype:', train_label.dtype)"
      ],
      "execution_count": 9,
      "outputs": [
        {
          "output_type": "stream",
          "text": [
            "* input shape: (60000, 28, 28)\n",
            "* input min, mean, max: 0.0 0.1306604762738429 1.0\n",
            "* input dtype: float64\n",
            "* label shape: (60000,)\n",
            "* label min, mean, max: 0 4.4539333333333335 9\n",
            "* label dtype: int32\n"
          ],
          "name": "stdout"
        }
      ]
    },
    {
      "cell_type": "code",
      "metadata": {
        "id": "JDwRkDiYfzVO",
        "colab_type": "code",
        "colab": {}
      },
      "source": [
        "# We can visualize the first few training examples using matplotlib.imshow()\n",
        "# in combination with the gallery function we defined.\n",
        "#\n",
        "# Copy the gallery function in this cell.\n",
        "\n",
        "def gallery(array, ncols=10, rescale=True):\n",
        "  \"\"\"Take a batch of images and arrange them in a grid.\n",
        "  \n",
        "  Args:\n",
        "    array: of shape batch_size x height x width x 3. The final x3 in the shape\n",
        "      is optional.\n",
        "    ncols: number of columns to have in the grid\n",
        "    rescale: if true (default), increases the intensity of the images.\n",
        "    \n",
        "  Returns:\n",
        "    A numpy array which contains the batch of images arranged into\n",
        "    a grid.\n",
        "  \"\"\"\n",
        "  if rescale:\n",
        "    array = (array + 1.) / 2\n",
        "  nindex, height, width = array.shape[:3]\n",
        "\n",
        "  nrows = nindex//ncols\n",
        "  assert nindex == nrows*ncols\n",
        "\n",
        "  # want result.shape = (height*nrows, width*ncols, intensity?)\n",
        "  abstract_grid_shape = [nrows, ncols, height, width]\n",
        "  image_grid_shape = [height*nrows, width*ncols]\n",
        "  if len(array.shape) == 4:\n",
        "    intensity = array.shape[3]\n",
        "    abstract_grid_shape.append(intensity)\n",
        "    image_grid_shape.append(intensity)\n",
        " \n",
        "  result = (array.reshape(*abstract_grid_shape)\n",
        "            .swapaxes(1,2)\n",
        "            .reshape(*image_grid_shape))\n",
        "  return result\n"
      ],
      "execution_count": 0,
      "outputs": []
    },
    {
      "cell_type": "code",
      "metadata": {
        "id": "1WQD1huVgV8Y",
        "colab_type": "code",
        "colab": {
          "base_uri": "https://localhost:8080/",
          "height": 122
        },
        "outputId": "0b4d179f-80ef-4cc0-cff9-09af36f096ef"
      },
      "source": [
        "# Show the first 6 training images on a 1x6 grid.\n",
        "# Remember to use grayscale plotting.\n",
        "# Also print their corresponding labels in the same order.\n",
        "\n",
        "\n",
        "g = gallery(train_input[:6], ncols=6)\n",
        "plt.figure(figsize=(6, 1))\n",
        "plt.gray()\n",
        "plt.axis('off')\n",
        "plt.imshow(g)\n",
        "plt.show()\n",
        "\n",
        "print(train_label[:6])"
      ],
      "execution_count": 16,
      "outputs": [
        {
          "output_type": "display_data",
          "data": {
            "image/png": "[encoded data removed]",
            "text/plain": [
              "<Figure size 432x72 with 1 Axes>"
            ]
          },
          "metadata": {
            "tags": []
          }
        },
        {
          "output_type": "stream",
          "text": [
            "[5 0 4 1 9 2]\n"
          ],
          "name": "stdout"
        }
      ]
    },
    {
      "cell_type": "code",
      "metadata": {
        "id": "6VZdwYo_fUpo",
        "colab_type": "code",
        "colab": {
          "base_uri": "https://localhost:8080/",
          "height": 170
        },
        "outputId": "a60ca777-ccfd-49de-c54c-43cc6efed28b"
      },
      "source": [
        "# Write a function that turns the data into tensorflow datasets and into\n",
        "# tensors corresponding to batches of examples, returning these tensors.\n",
        "#\n",
        "# The train data should be\n",
        "#\n",
        "# * shuffled across the full dataset\n",
        "# * repeated indefinitely\n",
        "# * batched at size 64.\n",
        "#\n",
        "# Simply batch the test data.\n",
        "#\n",
        "# IMPORTANT: Add a final (singleton) axis to the inputs; the conv nets that\n",
        "# we will use will expect this.\n",
        "\n",
        "BATCH_SIZE = 64\n",
        "\n",
        "\n",
        "def _get_data_tensor(dataset):\n",
        "  return dataset.make_one_shot_iterator().get_next()\n",
        "\n",
        "def get_tf_data():\n",
        "  train_dataset = tf.data.Dataset.from_tensor_slices((\n",
        "      np.expand_dims(train_input, axis=-1), train_label))\n",
        "  train_dataset = train_dataset.shuffle(60000).repeat().batch(BATCH_SIZE)\n",
        "  train_data = _get_data_tensor(train_dataset)\n",
        "\n",
        "  test_dataset = tf.data.Dataset.from_tensor_slices((\n",
        "      np.expand_dims(test_input, axis=-1), test_label))\n",
        "  test_dataset = test_dataset.batch(BATCH_SIZE)\n",
        "  test_data = _get_data_tensor(test_dataset)\n",
        "  \n",
        "  return train_data, test_data\n",
        "\n",
        "\n",
        "# Check the function outputs.\n",
        "get_tf_data()"
      ],
      "execution_count": 17,
      "outputs": [
        {
          "output_type": "stream",
          "text": [
            "WARNING: Logging before flag parsing goes to stderr.\n",
            "W0701 15:45:41.550568 140522289317760 deprecation.py:323] From <ipython-input-17-12e93fc8a3b2>:6: make_one_shot_iterator (from tensorflow.python.data.ops.dataset_ops) is deprecated and will be removed in a future version.\n",
            "Instructions for updating:\n",
            "Use `for ... in dataset:` to iterate over a dataset. If using `tf.estimator`, return the `Dataset` object directly from your input function. As a last resort, you can use `tf.compat.v1.data.make_one_shot_iterator(dataset)`.\n"
          ],
          "name": "stderr"
        },
        {
          "output_type": "execute_result",
          "data": {
            "text/plain": [
              "((<tf.Tensor 'IteratorGetNext:0' shape=(?, 28, 28, 1) dtype=float64>,\n",
              "  <tf.Tensor 'IteratorGetNext:1' shape=(?,) dtype=int32>),\n",
              " (<tf.Tensor 'IteratorGetNext_1:0' shape=(?, 28, 28, 1) dtype=float64>,\n",
              "  <tf.Tensor 'IteratorGetNext_1:1' shape=(?,) dtype=int32>))"
            ]
          },
          "metadata": {
            "tags": []
          },
          "execution_count": 17
        }
      ]
    },
    {
      "cell_type": "code",
      "metadata": {
        "id": "d3JcANwNfHuQ",
        "colab_type": "code",
        "colab": {}
      },
      "source": [
        "# Creata function that returns a network with the following structure:\n",
        "#\n",
        "# 1. Conv2D with 16 filters, kernel shape 3, stride 1, padding 'SAME'\n",
        "# 2. max pooling with window_shape [3, 3], srides [2, 2], padding 'SAME'\n",
        "# 3. ReLU\n",
        "# 4. Conv2D with 16 filters, kernel shape 3, stride 1, padding 'SAME'\n",
        "# 5. Flatten the final conv features using snt.BatchFlatten\n",
        "# 5. A Dense layer with output_size = 10, the number of classes.\n",
        "#\n",
        "# Make sure you use variable scoping to be able to share the underlying\n",
        "# variables.\n",
        "\n",
        "\n"
      ],
      "execution_count": 0,
      "outputs": []
    },
    {
      "cell_type": "code",
      "metadata": {
        "id": "YRp2hrGofH7f",
        "colab_type": "code",
        "colab": {}
      },
      "source": [
        "tf.reset_default_graph()\n",
        "(train_inputs, train_labels), (test_inputs, test_labels) = get_tf_data()\n"
      ],
      "execution_count": 0,
      "outputs": []
    },
    {
      "cell_type": "code",
      "metadata": {
        "id": "g7daVkyoqS9p",
        "colab_type": "code",
        "colab": {}
      },
      "source": [
        "# * Get the output of the network on the training data,\n",
        "# * and the output of the *same* network with same weights on the test data.\n",
        "# * Use the `tf.nn.sparse_softmax_cross_entropy_with_logits` op to define the loss\n",
        "# * Define the train_op that minimizes the loss (averaged over the batch)\n",
        "#   using the `GradientDescentOptimizer`. Set the learning rate to 0.01.\n",
        "# * Get the initialization op.\n"
      ],
      "execution_count": 0,
      "outputs": []
    },
    {
      "cell_type": "code",
      "metadata": {
        "id": "Wvmlucn6vbSD",
        "colab_type": "code",
        "colab": {}
      },
      "source": [
        "# Write a function that takes a list of losses and plots them.\n",
        "\n"
      ],
      "execution_count": 0,
      "outputs": []
    },
    {
      "cell_type": "code",
      "metadata": {
        "id": "tufk2Xa2qTEI",
        "colab_type": "code",
        "colab": {}
      },
      "source": [
        "# Run the training loop, keeping track of losses and potentially the accuracy\n",
        "# on the training set. Plot the loss curve intermittently.\n",
        "#\n",
        "# The simplest solution would add a new plot with each plotting call. You\n",
        "# can play with the frequency of plotting (and recording) a bit in order\n",
        "# to find something that works.\n",
        "#\n",
        "# Based on the loss curves, decide how to set your total number of training\n",
        "# iterations. Once you are satified, add some code that evaluates your\n",
        "# prediction accuracy (not loss!) on the test set.\n",
        "#\n",
        "# Note that the outputs from the network are logits; for prediction accuracy\n",
        "# we can pick the most likely label and see if it is correct.\n",
        "\n",
        "# The accuracy (on the training set) you should expect:\n",
        "#\n",
        "# * Roughly 90% after 1000 training steps.\n",
        "# * 96-97% after 8k training steps.\n",
        "#\n",
        "# First iterate with 1k steps, if that works, train for 8k. 8k steps will\n",
        "# be roughly 8 minutes on CPU.\n",
        "#\n",
        "# The final test accuracy should also be ~96%.\n"
      ],
      "execution_count": 0,
      "outputs": []
    },
    {
      "cell_type": "code",
      "metadata": {
        "id": "0fwSrI-c2Cn3",
        "colab_type": "code",
        "colab": {}
      },
      "source": [
        ""
      ],
      "execution_count": 0,
      "outputs": []
    },
    {
      "cell_type": "code",
      "metadata": {
        "id": "Xvt4bOeP1Bbo",
        "colab_type": "code",
        "colab": {}
      },
      "source": [
        ""
      ],
      "execution_count": 0,
      "outputs": []
    },
    {
      "cell_type": "code",
      "metadata": {
        "id": "ChrJA2KOqTMD",
        "colab_type": "code",
        "colab": {}
      },
      "source": [
        ""
      ],
      "execution_count": 0,
      "outputs": []
    }
  ]
}