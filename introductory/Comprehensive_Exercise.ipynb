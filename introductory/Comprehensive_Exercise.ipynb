{
  "nbformat": 4,
  "nbformat_minor": 0,
  "metadata": {
    "colab": {
      "name": "Comprehensive_Exercise.ipynb",
      "version": "0.3.2",
      "provenance": [],
      "collapsed_sections": []
    },
    "kernelspec": {
      "name": "python2",
      "display_name": "Python 2"
    },
    "accelerator": "GPU"
  },
  "cells": [
    {
      "cell_type": "markdown",
      "metadata": {
        "id": "iYx6oEVKcE_L",
        "colab_type": "text"
      },
      "source": [
        "# Exercise: putting everything together\n",
        "\n",
        "In this you will write code for a model that learns to classify mnist digits. You will use tensorflow, tracking training progress with matplotlib.\n",
        "\n",
        "For each sub-exercise, you have seen an example solution for it in one of the colabs leading up to this one."
      ]
    },
    {
      "cell_type": "code",
      "metadata": {
        "id": "TGBJLkR_cI3L",
        "colab_type": "code",
        "colab": {}
      },
      "source": [
        "from __future__ import absolute_import\n",
        "from __future__ import division\n",
        "from __future__ import print_function\n",
        "\n",
        "import random\n",
        "import seaborn as sns\n",
        "import numpy as np\n",
        "import tensorflow as tf\n",
        "import datetime\n",
        "\n",
        "from matplotlib import pyplot as plt\n",
        "from google.colab import files\n",
        "from scipy.stats import multivariate_normal\n",
        "from IPython.display import clear_output, Image, display, HTML\n",
        "\n",
        "sns.set_style('ticks')\n"
      ],
      "execution_count": 0,
      "outputs": []
    },
    {
      "cell_type": "code",
      "metadata": {
        "id": "5gkBQpjJlCgP",
        "colab_type": "code",
        "colab": {}
      },
      "source": [
        "tf.reset_default_graph()"
      ],
      "execution_count": 0,
      "outputs": []
    },
    {
      "cell_type": "code",
      "metadata": {
        "id": "nO_tMPdncmVy",
        "colab_type": "code",
        "outputId": "49b595ad-760f-4a5c-cb24-2f1eec833999",
        "colab": {
          "base_uri": "https://localhost:8080/",
          "height": 200
        }
      },
      "source": [
        "# Fetch the mnist data from tf.keras.datasets.mnist.\n",
        "\n",
        "mnist_train, mnist_test = tf.keras.datasets.mnist.load_data()\n",
        "\n",
        "# Check what the data is like:\n",
        "print('Training dataset:')\n",
        "train_input, train_label = mnist_train\n",
        "print('* input shape:', train_input.shape)\n",
        "print('* input min, mean, max:', train_input.min(), train_input.mean(), train_input.max())\n",
        "print('* input dtype:', train_input.dtype)\n",
        "print('* label shape:', train_label.shape)\n",
        "print('* label min, mean, max:', train_label.min(), train_label.mean(), train_label.max())\n",
        "print('* label dtype:', train_label.dtype)\n",
        "\n",
        "test_input, test_label = mnist_test\n",
        "print('Number of test examples:', test_input.shape[0])"
      ],
      "execution_count": 4,
      "outputs": [
        {
          "output_type": "stream",
          "text": [
            "Downloading data from https://storage.googleapis.com/tensorflow/tf-keras-datasets/mnist.npz\n",
            "11493376/11490434 [==============================] - 0s 0us/step\n",
            "11501568/11490434 [==============================] - 0s 0us/step\n",
            "Training dataset:\n",
            "* input shape: (60000, 28, 28)\n",
            "* input min, mean, max: 0 33.318421449829934 255\n",
            "* input dtype: uint8\n",
            "* label shape: (60000,)\n",
            "* label min, mean, max: 0 4.4539333333333335 9\n",
            "* label dtype: uint8\n",
            "Number of test examples: 10000\n"
          ],
          "name": "stdout"
        }
      ]
    },
    {
      "cell_type": "markdown",
      "metadata": {
        "id": "utL4ZmLrepoH",
        "colab_type": "text"
      },
      "source": [
        "Normalize the data into the \\[0, 1\\] interval. It's also a good idea to check the class distribution, but here we know that this is OK.\n",
        "\n"
      ]
    },
    {
      "cell_type": "code",
      "metadata": {
        "id": "60_4wXEPe7Ig",
        "colab_type": "code",
        "colab": {
          "base_uri": "https://localhost:8080/",
          "height": 116
        },
        "outputId": "456c839a-dcda-430a-868b-ce0e91c67f77"
      },
      "source": [
        "# Normalize both train_input and test_input so that it is in [0, 1].\n",
        "#\n",
        "# Also ensure the following data types:\n",
        "#\n",
        "# * train_input and test_input need to be np.float32.\n",
        "# * the labels need to be converted to np.int32.\n",
        "\n",
        "train_input, train_label = mnist_train\n",
        "test_input, test_label = mnist_test\n",
        "\n",
        "train_input = train_input.astype(np.float64) / 255\n",
        "test_input = test_input.astype(np.float64) / 255\n",
        "train_label = train_label.astype(np.int32)\n",
        "test_label = test_label.astype(np.int32)\n",
        "\n",
        "print('* input shape:', train_input.shape)\n",
        "print('* input min, mean, max:', train_input.min(), train_input.mean(), train_input.max())\n",
        "print('* input dtype:', train_input.dtype)\n",
        "print('* label shape:', train_label.shape)\n",
        "print('* label min, mean, max:', train_label.min(), train_label.mean(), train_label.max())\n",
        "print('* label dtype:', train_label.dtype)"
      ],
      "execution_count": 5,
      "outputs": [
        {
          "output_type": "stream",
          "text": [
            "* input shape: (60000, 28, 28)\n",
            "* input min, mean, max: 0.0 0.1306604762738429 1.0\n",
            "* input dtype: float64\n",
            "* label shape: (60000,)\n",
            "* label min, mean, max: 0 4.4539333333333335 9\n",
            "* label dtype: int32\n"
          ],
          "name": "stdout"
        }
      ]
    },
    {
      "cell_type": "code",
      "metadata": {
        "id": "JDwRkDiYfzVO",
        "colab_type": "code",
        "colab": {}
      },
      "source": [
        "# We can visualize the first few training examples using matplotlib.imshow()\n",
        "# in combination with the gallery function we defined.\n",
        "#\n",
        "# Copy the gallery function in this cell.\n",
        "\n",
        "def gallery(array, ncols=10, rescale=True):\n",
        "  \"\"\"Take a batch of images and arrange them in a grid.\n",
        "  \n",
        "  Args:\n",
        "    array: of shape batch_size x height x width x 3. The final x3 in the shape\n",
        "      is optional.\n",
        "    ncols: number of columns to have in the grid\n",
        "    rescale: if true (default), increases the intensity of the images.\n",
        "    \n",
        "  Returns:\n",
        "    A numpy array which contains the batch of images arranged into\n",
        "    a grid.\n",
        "  \"\"\"\n",
        "  if rescale:\n",
        "    array = (array + 1.) / 2\n",
        "  nindex, height, width = array.shape[:3]\n",
        "\n",
        "  nrows = nindex//ncols\n",
        "  assert nindex == nrows*ncols\n",
        "\n",
        "  # want result.shape = (height*nrows, width*ncols, intensity?)\n",
        "  abstract_grid_shape = [nrows, ncols, height, width]\n",
        "  image_grid_shape = [height*nrows, width*ncols]\n",
        "  if len(array.shape) == 4:\n",
        "    intensity = array.shape[3]\n",
        "    abstract_grid_shape.append(intensity)\n",
        "    image_grid_shape.append(intensity)\n",
        " \n",
        "  result = (array.reshape(*abstract_grid_shape)\n",
        "            .swapaxes(1,2)\n",
        "            .reshape(*image_grid_shape))\n",
        "  return result\n"
      ],
      "execution_count": 0,
      "outputs": []
    },
    {
      "cell_type": "code",
      "metadata": {
        "id": "1WQD1huVgV8Y",
        "colab_type": "code",
        "colab": {
          "base_uri": "https://localhost:8080/",
          "height": 122
        },
        "outputId": "49c1237a-c61c-496b-811f-e342bc9e3501"
      },
      "source": [
        "# Show the first 6 training images on a 1x6 grid.\n",
        "# Remember to use grayscale plotting.\n",
        "# Also print their corresponding labels in the same order.\n",
        "\n",
        "\n",
        "g = gallery(train_input[:6], ncols=6)\n",
        "plt.figure(figsize=(6, 1))\n",
        "plt.gray()\n",
        "plt.axis('off')\n",
        "plt.imshow(g)\n",
        "plt.show()\n",
        "\n",
        "print(train_label[:6])"
      ],
      "execution_count": 7,
      "outputs": [
        {
          "output_type": "display_data",
          "data": {
            "image/png": "[encoded data removed]",
            "text/plain": [
              "<Figure size 432x72 with 1 Axes>"
            ]
          },
          "metadata": {
            "tags": []
          }
        },
        {
          "output_type": "stream",
          "text": [
            "[5 0 4 1 9 2]\n"
          ],
          "name": "stdout"
        }
      ]
    },
    {
      "cell_type": "code",
      "metadata": {
        "id": "6VZdwYo_fUpo",
        "colab_type": "code",
        "colab": {
          "base_uri": "https://localhost:8080/",
          "height": 170
        },
        "outputId": "f8688c67-3879-4ecb-c7df-f1b39fd0e950"
      },
      "source": [
        "# Write a function that turns the data into tensorflow datasets and into\n",
        "# tensors corresponding to batches of examples, returning these tensors.\n",
        "#\n",
        "# The train data should be\n",
        "#\n",
        "# * shuffled across the full dataset\n",
        "# * repeated indefinitely\n",
        "# * batched at size 64.\n",
        "#\n",
        "# Simply batch the test data.\n",
        "#\n",
        "# IMPORTANT: Add a final (singleton) axis to the inputs; the conv nets that\n",
        "# we will use will expect this.\n",
        "\n",
        "BATCH_SIZE = 64\n",
        "\n",
        "\n",
        "def _get_data_tensor(dataset):\n",
        "  return dataset.make_one_shot_iterator().get_next()\n",
        "\n",
        "def get_tf_data():\n",
        "  train_dataset = tf.data.Dataset.from_tensor_slices((\n",
        "      np.expand_dims(train_input, axis=-1), train_label))\n",
        "  train_dataset = train_dataset.shuffle(60000).repeat().batch(BATCH_SIZE)\n",
        "  train_data = _get_data_tensor(train_dataset)\n",
        "\n",
        "  test_dataset = tf.data.Dataset.from_tensor_slices((\n",
        "      np.expand_dims(test_input, axis=-1), test_label))\n",
        "  test_dataset = test_dataset.batch(BATCH_SIZE)\n",
        "  test_data = _get_data_tensor(test_dataset)\n",
        "  \n",
        "  return train_data, test_data\n",
        "\n",
        "\n",
        "# Check the function outputs.\n",
        "get_tf_data()"
      ],
      "execution_count": 8,
      "outputs": [
        {
          "output_type": "stream",
          "text": [
            "WARNING: Logging before flag parsing goes to stderr.\n",
            "W0701 15:59:38.559830 140435554461568 deprecation.py:323] From <ipython-input-8-12e93fc8a3b2>:6: make_one_shot_iterator (from tensorflow.python.data.ops.dataset_ops) is deprecated and will be removed in a future version.\n",
            "Instructions for updating:\n",
            "Use `for ... in dataset:` to iterate over a dataset. If using `tf.estimator`, return the `Dataset` object directly from your input function. As a last resort, you can use `tf.compat.v1.data.make_one_shot_iterator(dataset)`.\n"
          ],
          "name": "stderr"
        },
        {
          "output_type": "execute_result",
          "data": {
            "text/plain": [
              "((<tf.Tensor 'IteratorGetNext:0' shape=(?, 28, 28, 1) dtype=float64>,\n",
              "  <tf.Tensor 'IteratorGetNext:1' shape=(?,) dtype=int32>),\n",
              " (<tf.Tensor 'IteratorGetNext_1:0' shape=(?, 28, 28, 1) dtype=float64>,\n",
              "  <tf.Tensor 'IteratorGetNext_1:1' shape=(?,) dtype=int32>))"
            ]
          },
          "metadata": {
            "tags": []
          },
          "execution_count": 8
        }
      ]
    },
    {
      "cell_type": "code",
      "metadata": {
        "id": "d3JcANwNfHuQ",
        "colab_type": "code",
        "colab": {
          "base_uri": "https://localhost:8080/",
          "height": 203
        },
        "outputId": "774c435e-6e05-40ea-d0b7-c0091611c1e8"
      },
      "source": [
        "# Creata function that returns a network with the following structure:\n",
        "#\n",
        "# 1. Conv2D with 16 filters, kernel shape 3, stride 1, padding 'SAME'\n",
        "# 2. max pooling with window_shape [3, 3], srides [2, 2], padding 'SAME'\n",
        "# 3. ReLU\n",
        "# 4. Conv2D with 16 filters, kernel shape 3, stride 1, padding 'SAME'\n",
        "# 5. Flatten the final conv features using snt.BatchFlatten\n",
        "# 5. A Dense layer with output_size = 10, the number of classes.\n",
        "#\n",
        "# Make sure you use variable scoping to be able to share the underlying\n",
        "# variables.\n",
        "\n",
        "\n",
        "def make_network(scope, inputs):\n",
        "  with tf.variable_scope(scope, reuse=tf.AUTO_REUSE):\n",
        "  \n",
        "    def make_conv_layer(inputs):\n",
        "      return tf.layers.Conv2D(\n",
        "            filters=16,\n",
        "            kernel_size=3,\n",
        "            strides=1,\n",
        "            padding='same')(inputs)\n",
        "\n",
        "    def pooling_layer(inputs):\n",
        "      return tf.nn.pool(\n",
        "          inputs,\n",
        "          window_shape=[3, 3],\n",
        "          pooling_type='MAX',\n",
        "          padding='SAME',\n",
        "          strides=[2, 2])\n",
        "\n",
        "    x = make_conv_layer(inputs)\n",
        "    x = pooling_layer(x)\n",
        "    x = tf.nn.relu(x)\n",
        "    x = make_conv_layer(x)\n",
        "    x = tf.layers.flatten(x)\n",
        "    x = tf.layers.dense(x, 10)\n",
        "    return x\n",
        "\n",
        "\n",
        "# Check the function outputs.\n",
        "make_network(\"test\", tf.constant(1.0, shape=(1, 10, 10, 3)))"
      ],
      "execution_count": 9,
      "outputs": [
        {
          "output_type": "stream",
          "text": [
            "W0701 15:59:42.327354 140435554461568 deprecation.py:506] From /usr/local/lib/python2.7/dist-packages/tensorflow/python/ops/init_ops.py:1251: calling __init__ (from tensorflow.python.ops.init_ops) with dtype is deprecated and will be removed in a future version.\n",
            "Instructions for updating:\n",
            "Call initializer instance with the dtype argument instead of passing it to the constructor\n",
            "W0701 15:59:42.624711 140435554461568 deprecation.py:323] From <ipython-input-9-820c4e4d3d13>:25: flatten (from tensorflow.python.layers.core) is deprecated and will be removed in a future version.\n",
            "Instructions for updating:\n",
            "Use keras.layers.flatten instead.\n",
            "W0701 15:59:42.898897 140435554461568 deprecation.py:323] From <ipython-input-9-820c4e4d3d13>:26: dense (from tensorflow.python.layers.core) is deprecated and will be removed in a future version.\n",
            "Instructions for updating:\n",
            "Use keras.layers.dense instead.\n"
          ],
          "name": "stderr"
        },
        {
          "output_type": "execute_result",
          "data": {
            "text/plain": [
              "<tf.Tensor 'test/dense/BiasAdd:0' shape=(1, 10) dtype=float32>"
            ]
          },
          "metadata": {
            "tags": []
          },
          "execution_count": 9
        }
      ]
    },
    {
      "cell_type": "code",
      "metadata": {
        "id": "YRp2hrGofH7f",
        "colab_type": "code",
        "colab": {}
      },
      "source": [
        "tf.reset_default_graph()\n",
        "(train_inputs, train_labels), (test_inputs, test_labels) = get_tf_data()\n"
      ],
      "execution_count": 0,
      "outputs": []
    },
    {
      "cell_type": "code",
      "metadata": {
        "id": "g7daVkyoqS9p",
        "colab_type": "code",
        "colab": {}
      },
      "source": [
        "# * Get the output of the network on the training data,\n",
        "# * and the output of the *same* network with same weights on the test data.\n",
        "# * Use the `tf.nn.sparse_softmax_cross_entropy_with_logits` op to define the loss\n",
        "# * Define the train_op that minimizes the loss (averaged over the batch)\n",
        "#   using the `GradientDescentOptimizer`. Set the learning rate to 0.01.\n",
        "# * Get the initialization op.\n",
        "\n",
        "NETWORK_SCOPE = \"network\"\n",
        "train_outputs = make_network(NETWORK_SCOPE, train_inputs)\n",
        "test_outputs = make_network(NETWORK_SCOPE, test_inputs)\n",
        "\n",
        "loss = tf.nn.sparse_softmax_cross_entropy_with_logits(\n",
        "    labels=train_labels,\n",
        "    logits=train_outputs,\n",
        ")\n",
        "loss = tf.reduce_mean(loss)\n",
        "\n",
        "optimizer = tf.train.GradientDescentOptimizer(learning_rate=0.01)\n",
        "train_op = optimizer.minimize(loss)\n",
        "\n",
        "init_op = tf.global_variables_initializer()\n"
      ],
      "execution_count": 0,
      "outputs": []
    },
    {
      "cell_type": "code",
      "metadata": {
        "id": "Wvmlucn6vbSD",
        "colab_type": "code",
        "colab": {}
      },
      "source": [
        "# Write a function that takes a list of losses and plots them.\n",
        "\n",
        "def plot_losses(loss_list):\n",
        "  plt.figure()\n",
        "  plt.title('Losses')\n",
        "  plt.plot(loss_list, c='b')\n",
        "  plt.show()"
      ],
      "execution_count": 0,
      "outputs": []
    },
    {
      "cell_type": "code",
      "metadata": {
        "id": "tufk2Xa2qTEI",
        "colab_type": "code",
        "colab": {
          "base_uri": "https://localhost:8080/",
          "height": 1000
        },
        "outputId": "9b32ce79-2d13-46c0-93ef-3e10a10f2e41"
      },
      "source": [
        "# Run the training loop, keeping track of losses and potentially the accuracy\n",
        "# on the training set. Plot the loss curve intermittently.\n",
        "#\n",
        "# The simplest solution would add a new plot with each plotting call. You\n",
        "# can play with the frequency of plotting (and recording) a bit in order\n",
        "# to find something that works.\n",
        "#\n",
        "# Based on the loss curves, decide how to set your total number of training\n",
        "# iterations. Once you are satified, add some code that evaluates your\n",
        "# prediction accuracy (not loss!) on the test set.\n",
        "#\n",
        "# Note that the outputs from the network are logits; for prediction accuracy\n",
        "# we can pick the most likely label and see if it is correct.\n",
        "\n",
        "# The accuracy (on the training set) you should expect:\n",
        "#\n",
        "# * Roughly 90% after 1000 training steps.\n",
        "# * 96-97% after 8k training steps.\n",
        "#\n",
        "# First iterate with 1k steps, if that works, train for 8k. 8k steps will\n",
        "# be roughly 8 minutes on CPU.\n",
        "#\n",
        "# The final test accuracy should also be ~96%.\n",
        "\n",
        "\n",
        "TRAIN_ITERS = int(20000)\n",
        "RECORD_PERIOD = 10\n",
        "PLOT_PERIOD = int(5000)\n",
        "\n",
        "\n",
        "def get_accuracy(predictions, true_labels):\n",
        "  assert predictions.shape == true_labels.shape  \n",
        "  num_elements = predictions.shape[0]\n",
        "  num_correct = np.count_nonzero(np.isclose(predictions, true_labels))\n",
        "  return num_correct / num_elements\n",
        "  \n",
        "\n",
        "def get_predictions_and_true_labels(\n",
        "    session, outputs_tensor, labels_tensor, num_batches=-1):\n",
        "  all_predictions = []\n",
        "  all_true_labels = []\n",
        "  while num_batches != 0:\n",
        "    try:\n",
        "      outputs_np, labels_np = session.run([outputs_tensor, labels_tensor])\n",
        "      if num_batches > 0:\n",
        "        num_batches -= 1\n",
        "\n",
        "      assert len(outputs_np.shape) == 2\n",
        "      predictions = outputs_np.argmax(axis=1)\n",
        "      all_predictions.append(predictions)\n",
        "      all_true_labels.append(labels_np)\n",
        "    except tf.errors.OutOfRangeError:\n",
        "      break\n",
        "      \n",
        "  # Concatenate all collected data.\n",
        "  return (\n",
        "      np.concatenate(all_predictions),\n",
        "      np.concatenate(all_true_labels),      \n",
        "  )\n",
        "\n",
        "\n",
        "\n",
        "\n",
        "start_time = datetime.datetime.now()\n",
        "losses = []\n",
        "with tf.Session() as session:\n",
        "  session.run(init_op)\n",
        "  \n",
        "  for train_iter in range(TRAIN_ITERS):\n",
        "    _, loss_np = session.run([train_op, loss])\n",
        "    \n",
        "    if (train_iter % RECORD_PERIOD) == 0:\n",
        "      losses.append(loss_np)\n",
        "  \n",
        "    if (train_iter % PLOT_PERIOD) == 0:\n",
        "      print('train iter {}, elapsed {}'.format(\n",
        "          train_iter, datetime.datetime.now() - start_time))\n",
        "      plot_losses(losses)\n",
        "      predictions, true_labels = get_predictions_and_true_labels(\n",
        "          session, train_outputs, train_labels, num_batches=30)\n",
        "      print('Accuracy on training set:', get_accuracy(predictions, true_labels))\n",
        "\n",
        "  print('FINAL pred accuracy after {} steps and {} time:'.format(\n",
        "      train_iter+1, datetime.datetime.now() - start_time))\n",
        "  print('* Train:', get_accuracy(\n",
        "      *get_predictions_and_true_labels(\n",
        "          session, train_outputs, train_labels, num_batches=30)\n",
        "  ))\n",
        "  print('* Test:', get_accuracy(\n",
        "      *get_predictions_and_true_labels(\n",
        "          session, test_outputs, test_labels, num_batches=-1)\n",
        "  ))\n",
        "\n"
      ],
      "execution_count": 15,
      "outputs": [
        {
          "output_type": "stream",
          "text": [
            "train iter 0, elapsed 0:00:04.169282\n"
          ],
          "name": "stdout"
        },
        {
          "output_type": "display_data",
          "data": {
            "image/png": "[encoded data removed]",
            "text/plain": [
              "<Figure size 432x288 with 1 Axes>"
            ]
          },
          "metadata": {
            "tags": []
          }
        },
        {
          "output_type": "stream",
          "text": [
            "Accuracy on training set: 0.0807291666667\n",
            "train iter 5000, elapsed 0:00:49.405921\n"
          ],
          "name": "stdout"
        },
        {
          "output_type": "display_data",
          "data": {
            "image/png": "[encoded data removed]",
            "text/plain": [
              "<Figure size 432x288 with 1 Axes>"
            ]
          },
          "metadata": {
            "tags": []
          }
        },
        {
          "output_type": "stream",
          "text": [
            "Accuracy on training set: 0.955729166667\n",
            "train iter 10000, elapsed 0:01:33.363569\n"
          ],
          "name": "stdout"
        },
        {
          "output_type": "display_data",
          "data": {
            "image/png": "[encoded data removed]",
            "text/plain": [
              "<Figure size 432x288 with 1 Axes>"
            ]
          },
          "metadata": {
            "tags": []
          }
        },
        {
          "output_type": "stream",
          "text": [
            "Accuracy on training set: 0.976041666667\n",
            "train iter 15000, elapsed 0:02:17.478731\n"
          ],
          "name": "stdout"
        },
        {
          "output_type": "display_data",
          "data": {
            "image/png": "[encoded data removed]",
            "text/plain": [
              "<Figure size 432x288 with 1 Axes>"
            ]
          },
          "metadata": {
            "tags": []
          }
        },
        {
          "output_type": "stream",
          "text": [
            "Accuracy on training set: 0.981770833333\n",
            "FINAL pred accuracy after 20000 steps and 0:03:00.541205 time:\n",
            "* Train: 0.983333333333\n",
            "* Test: 0.9834\n"
          ],
          "name": "stdout"
        }
      ]
    },
    {
      "cell_type": "code",
      "metadata": {
        "id": "0fwSrI-c2Cn3",
        "colab_type": "code",
        "colab": {
          "base_uri": "https://localhost:8080/",
          "height": 33
        },
        "outputId": "0c4ebc17-e220-403e-a6eb-4300e5b200c4"
      },
      "source": [
        "train_label[0]"
      ],
      "execution_count": 13,
      "outputs": [
        {
          "output_type": "execute_result",
          "data": {
            "text/plain": [
              "5"
            ]
          },
          "metadata": {
            "tags": []
          },
          "execution_count": 13
        }
      ]
    },
    {
      "cell_type": "code",
      "metadata": {
        "id": "Xvt4bOeP1Bbo",
        "colab_type": "code",
        "colab": {}
      },
      "source": [
        ""
      ],
      "execution_count": 0,
      "outputs": []
    },
    {
      "cell_type": "code",
      "metadata": {
        "id": "ChrJA2KOqTMD",
        "colab_type": "code",
        "colab": {}
      },
      "source": [
        ""
      ],
      "execution_count": 0,
      "outputs": []
    }
  ]
}