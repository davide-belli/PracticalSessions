{
  "nbformat": 4,
  "nbformat_minor": 0,
  "metadata": {
    "colab": {
      "name": "[Exercises] EEML - BLR 2019.ipynb",
      "version": "0.3.2",
      "provenance": [],
      "collapsed_sections": []
    },
    "kernelspec": {
      "name": "python2",
      "display_name": "Python 2"
    },
    "accelerator": "GPU"
  },
  "cells": [
    {
      "cell_type": "markdown",
      "metadata": {
        "id": "qP69ddGg42Df",
        "colab_type": "text"
      },
      "source": [
        "# Bayesian Logistic Regression\n",
        "\n",
        "Contact: mihaelacr@google.com\n",
        "\n",
        "Aim of this colab:\n",
        "Logistic regression with a twist! We will use variational inference to learn a distribution over the learned parameters.\n",
        "\n",
        "Througout this work we will be focusing on a binary classification task, on \n",
        "a small dataset (the UCD breast cancer dataset). \n",
        "\n",
        "\n",
        "## Logistic regression\n",
        "\n",
        "Learn the weights which best classify the $(x, y)$ pairs in the dataset. \n",
        "The weights ($w$) and biases $b$, form the parameters which are learned via the following maximization problem:\n",
        "\n",
        "\\begin{equation}\n",
        "\\mathbb{E}_{p^*(x, y)} \\log p(y|x, \\theta) = \\\\\n",
        " \\mathbb{E}_{p^*(x, y)} \\left[y \\log \\sigma(w x + b) + (1 - y) \\log(1- \\sigma(w x + b)\\right] \n",
        "\\end{equation}\n",
        "\n",
        "Here $\\sigma$ denotes the sigmoid function.\n",
        "\n",
        "## Bayesian logistic regression - computing the evidence lower bound\n",
        "\n",
        "Learn a distribution over the weights which best classify the $(x, y)$ pairs in the dataset.\n",
        "\n",
        "We now want to learn the distributional parameters of $q(w)$ in order to maximize:\n",
        "\n",
        "\\begin{equation}\n",
        "\\mathbb{E}_{p^*(x, y)} \\log p_w(y| x) = \\\\\n",
        "\\mathbb{E}_{p^*(x, y)} \\log \\int p(y|x, w) p(w) \\delta w = \\\\\n",
        "\\mathbb{E}_{p^*(x, y)} \\log \\int p(y|x, w) p(w) \\frac{q(w)}{q(w)} \\delta w \\ge \\\\\n",
        "\\mathbb{E}_{p^*(x, y)} \\mathbb{E}_{q(w)} \\log \\left[p(y| x, w) \\frac{p(w)}{q(w)} \\right]= \\\\\n",
        "\\mathbb{E}_{q(w)} \\mathbb{E}_{p^*(x, y)} \\log p(y|x, w)  -  KL(q(w)||p(w)) = \\\\\n",
        " \\mathbb{E}_{q(w)}\\mathbb{E}_{p^*(x, y)} \\left[y \\log \\sigma(w x + b) + (1 - y) \\log(1- \\sigma(w x + b)\\right] -  KL(q(w)||p(w))\n",
        "\\end{equation}\n",
        "\n",
        "In Bayesian Logistic Regression, we thus learn a distribution over parameters\n",
        "$w$ which can explain the data, while staying close to a chosen prior $p(w)$.\n",
        "\n",
        "Throughout this lab, we will use Gaussian Distributions for $p(w)$ and $q(w)$.\n",
        "\n",
        "For more details, see \n",
        "[this paper](https://pdfs.semanticscholar.org/e407/ea7fda6d152d2186f4b5e27aa04ec2d32dcd.pdf) \n",
        "or this tutorial\n",
        "[https://www.ece.rice.edu/~vc3/elec633/logistic.pdf].\n",
        "\n",
        "### Gradient estimation\n",
        "\n",
        "In Bayesian Logistic Regression, we aim to learn the parameters of the distribution $q(w)$. We will call these parameters $\\theta$. In the case of a \n",
        "Gaussian distribution, these will be the mean and covariance matrix of a\n",
        "multivariate distribution. Since we will use stochastic gradient descent to learn $\\theta$, we need to be able to compute the gradients with respect to \n",
        "$\\theta$ of our objective. Since our objective contains an expectation with respect to $q(w)$, this can be challenging. To illustrate this, from now on we will denote $q(w)$ as $q_{\\theta}(w)$.\n",
        "\n",
        "Specifically, we are interested in:\n",
        "\\begin{equation}\n",
        "  \\nabla_{\\theta} \\left[\\mathbb{E}_{q_{\\theta}(w)} \\mathbb{E}_{p^*(x, y)} \\log p(y|x, w)  -  KL(q_{\\theta}(w)||p(w))\\right]\n",
        "\\end{equation}\n",
        "\n",
        "Since in we will be using Gaussian distributions for $q_{\\theta}(w)$ and $p(w)$ \n",
        "$KL(q_{\\theta}(w)||p(w))$ can be computed in closed form and we can rely on \n",
        "TensorFlow's automatic differentiation to compute \n",
        "$\\nabla_{\\theta} KL(q_{\\theta}(w)||p(w))$.\n",
        "\n",
        "Let's now turn attention to computing $\\nabla_{\\theta} \\mathbb{E}_{q_{\\theta}(w)} \\mathbb{E}_{p^*(x, y)} \\log p(y| x, w)$. Unlike the KL, the integral \n",
        "$\\mathbb{E}_{q_{\\theta}(w)} \\mathbb{E}_{p^*(x, y)} \\log p(y|x, w)$\n",
        "is not tractable, and thus cannot be computed in closed form. Thus, we are interested in other approaches to compute the gradient.\n",
        "\n",
        "### Reinforce gradient estimation\n",
        "\n",
        "A first approach to compute an estimate of the gradient is to use the\n",
        "REINFORCE gradient estimator:\n",
        "\n",
        "\\begin{equation}\n",
        "  \\nabla_{\\theta} \\mathbb{E}_{q_{\\theta}(w)} \\mathbb{E}_{p^*(x, y)} \\log p(y| x, w)  = \\\\\n",
        "  \\nabla_{\\theta} \\int q_{\\theta}(w) \\mathbb{E}_{p^*(x, y)} \\log p(y| x, w) \\delta w = \\\\\n",
        "  \\int \\nabla_{\\theta} \\left[q_{\\theta}(w) \\mathbb{E}_{p^*(x, y)} \\log p(y| x, w) \\right] \\delta w = \\\\\n",
        " \\int \\nabla_{\\theta} \\left[q_{\\theta}(w)\\right] \\mathbb{E}_{p^*(x, y)} \\log p(y| x, w) \\delta w = \\\\\n",
        " \\int q_{\\theta}(w) \\nabla_{\\theta} \\left[\\log q_{\\theta}(w)\\right] \\mathbb{E}_{p^*(x, y)} \\log p(y| x, w)  \\delta w = \\\\\n",
        " \\mathbb{E}_{q_{\\theta}(w)} \\left[ \\nabla_{\\theta} \\log q_{\\theta}(w) \\mathbb{E}_{p^*(x, y)} \\log p(y| x, w) \\right]\n",
        "\\end{equation}\n",
        "\n",
        "We can use samples from $q_{\\theta}(w)$ to compute the Monte Carlo estimate of\n",
        "the last integral, to get an unbiased estimator of the true gradient. The more \n",
        "samples we use to estimate the integral, the more accurate the gradient estimate\n",
        "will be.\n",
        "\n",
        "\n",
        "### Pathwise gradient estimation (reparametrization)\n",
        "\n",
        "In the REINFORCE estimator, we did not use any knowledge of the variational\n",
        "distribution $q_{\\theta}(w)$.\n",
        "For a Gaussian distribution, we can use the reparametrization trick to obtain\n",
        "an unbiased gradient estimator of  $\\nabla_{\\theta} \\mathbb{E}_{q_{\\theta}(w)} \\mathbb{E}_{p^*(x, y)} \\log p(y| x, w)$.\n",
        "\n",
        "To do so, we will use the fact that \n",
        "\\begin{equation}\n",
        "    z \\sim N(\\mu, \\sigma), z = \\mu + \\epsilon \\sigma, {\\text {with }} \\epsilon \\sim N(0, 1)\n",
        "\\end{equation}\n",
        "\n",
        "Namely:\n",
        "\\begin{equation}\n",
        "  \\nabla_{\\theta} \\mathbb{E}_{q_{\\theta}(w)} \\mathbb{E}_{p^*(x, y)} \\log p(y| x, w)  = \\\\\n",
        "  \\nabla_{\\theta} \\mathbb{E}_{p(\\epsilon)} \\mathbb{E}_{p^*(x, y)} \\log p(y| x, \\mu + \\epsilon \\sigma)  = \\\\\n",
        "  \\mathbb{E}_{p(\\epsilon)} \\nabla_{\\theta} \\mathbb{E}_{p^*(x, y)} \\log p(y| x, \\mu + \\epsilon \\sigma)\n",
        "\\end{equation}\n",
        "\n",
        "Note that we were able to move the gradient inside the integral since \n",
        "$p(\\epsilon)$ does not depend on $\\theta$.\n",
        "To estimate the last integral, we can use a Monte Carlo estimate using samples\n",
        "of $p(\\epsilon)$.\n"
      ]
    },
    {
      "cell_type": "markdown",
      "metadata": {
        "id": "8PxAlISU7AYV",
        "colab_type": "text"
      },
      "source": [
        "## Your tasks\n",
        "\n",
        "\n",
        "*   Define the Gaussian posterior distribution.\n",
        "*   Fill in the code for the ELBO\n",
        "*   Fill in the reinforce function to create the surrogate loss\n",
        "*   Fill in the loss function for reparametrization\n",
        "*   Visualize the effects of batch size, learning rates and number of posterior samples on the learned model, as well as gradient variance.\n",
        "\n"
      ]
    },
    {
      "cell_type": "code",
      "metadata": {
        "id": "FH8xRXJVy-be",
        "colab_type": "code",
        "colab": {}
      },
      "source": [
        "import enum\n",
        "import numpy as np\n",
        "\n",
        "import math\n",
        "from sklearn import datasets\n",
        "from sklearn import linear_model\n",
        "import collections\n",
        "\n",
        "from matplotlib import pyplot as plt\n",
        "import tensorflow as tf\n",
        "import tensorflow_probability as tfp\n",
        "import seaborn as sns\n",
        "\n",
        "tfd = tfp.distributions\n"
      ],
      "execution_count": 0,
      "outputs": []
    },
    {
      "cell_type": "code",
      "metadata": {
        "id": "JD97evxTyirI",
        "colab_type": "code",
        "colab": {}
      },
      "source": [
        "sns.set(rc={\"lines.linewidth\": 2.8}, font_scale=2)\n",
        "sns.set_style(\"whitegrid\")"
      ],
      "execution_count": 0,
      "outputs": []
    },
    {
      "cell_type": "markdown",
      "metadata": {
        "id": "WhV6gBY_zRzC",
        "colab_type": "text"
      },
      "source": [
        "## Get the dataset and visualize it"
      ]
    },
    {
      "cell_type": "code",
      "metadata": {
        "id": "dzrvgE3e4lX1",
        "colab_type": "code",
        "colab": {}
      },
      "source": [
        "def get_data(normalize = True):\n",
        "    data = datasets.load_breast_cancer()\n",
        "\n",
        "    print(data.target_names)\n",
        "    print(data.feature_names)\n",
        "\n",
        "    features = np.array(data.data, dtype=np.float32)\n",
        "    targets = np.array(data.target, dtype=np.float32)\n",
        "\n",
        "    if normalize:\n",
        "        # Note: the data dimensions have very different scales.\n",
        "        # We normalize by the mean and scale of the entire dataset.\n",
        "        features = features - features.mean(axis=0)\n",
        "        features = features / features.std(axis=0)\n",
        "\n",
        "    # Add a dimension of 1 (bias).\n",
        "    features = np.concatenate((features, np.ones((features.shape[0], 1))), axis=1)\n",
        "    features = np.array(features, dtype=np.float32)\n",
        "  \n",
        "    return features, targets, data.feature_names"
      ],
      "execution_count": 0,
      "outputs": []
    },
    {
      "cell_type": "markdown",
      "metadata": {
        "id": "44Jrompq1iTY",
        "colab_type": "text"
      },
      "source": [
        "### Dataset\n",
        "\n",
        "This datasets has meaningful features: we are trying to classify based on these features whether someone has breast cancer or not. We can look at the\n",
        "features we are using to classify the data below.\n"
      ]
    },
    {
      "cell_type": "code",
      "metadata": {
        "id": "KgQ8-mnH4pTT",
        "colab_type": "code",
        "outputId": "6757ae18-1037-40a8-d430-172d6f7313ca",
        "colab": {
          "base_uri": "https://localhost:8080/",
          "height": 183
        }
      },
      "source": [
        "features, targets, feature_names = get_data()"
      ],
      "execution_count": 4,
      "outputs": [
        {
          "output_type": "stream",
          "text": [
            "['malignant' 'benign']\n",
            "['mean radius' 'mean texture' 'mean perimeter' 'mean area'\n",
            " 'mean smoothness' 'mean compactness' 'mean concavity'\n",
            " 'mean concave points' 'mean symmetry' 'mean fractal dimension'\n",
            " 'radius error' 'texture error' 'perimeter error' 'area error'\n",
            " 'smoothness error' 'compactness error' 'concavity error'\n",
            " 'concave points error' 'symmetry error' 'fractal dimension error'\n",
            " 'worst radius' 'worst texture' 'worst perimeter' 'worst area'\n",
            " 'worst smoothness' 'worst compactness' 'worst concavity'\n",
            " 'worst concave points' 'worst symmetry' 'worst fractal dimension']\n"
          ],
          "name": "stdout"
        }
      ]
    },
    {
      "cell_type": "markdown",
      "metadata": {
        "id": "OXDbcOfl1P1J",
        "colab_type": "text"
      },
      "source": [
        "### Trivial baseline\n",
        "\n",
        "How well can we do with a constant classifier?\n",
        "\n",
        "If we look at the average label, we can see how many 1s are in the data, so we know that our classifier has to get more than that accuracy"
      ]
    },
    {
      "cell_type": "code",
      "metadata": {
        "id": "_9iwLLowE4z8",
        "colab_type": "code",
        "outputId": "025bb8e8-afd0-49fe-9dfc-fe21a6455ead",
        "colab": {
          "base_uri": "https://localhost:8080/",
          "height": 33
        }
      },
      "source": [
        "np.mean(targets)"
      ],
      "execution_count": 5,
      "outputs": [
        {
          "output_type": "execute_result",
          "data": {
            "text/plain": [
              "0.6274165"
            ]
          },
          "metadata": {
            "tags": []
          },
          "execution_count": 5
        }
      ]
    },
    {
      "cell_type": "code",
      "metadata": {
        "id": "aA8nn2zy64F3",
        "colab_type": "code",
        "outputId": "8f0fe467-4008-4c3d-9c05-553667ac938a",
        "colab": {
          "base_uri": "https://localhost:8080/",
          "height": 33
        }
      },
      "source": [
        "features.shape"
      ],
      "execution_count": 6,
      "outputs": [
        {
          "output_type": "execute_result",
          "data": {
            "text/plain": [
              "(569, 31)"
            ]
          },
          "metadata": {
            "tags": []
          },
          "execution_count": 6
        }
      ]
    },
    {
      "cell_type": "code",
      "metadata": {
        "id": "TwJmx4bR5ooL",
        "colab_type": "code",
        "colab": {}
      },
      "source": [
        "dataset_size = features.shape[0]\n",
        "data_dims = features.shape[-1]"
      ],
      "execution_count": 0,
      "outputs": []
    },
    {
      "cell_type": "markdown",
      "metadata": {
        "id": "JzVQ6Z7szaqY",
        "colab_type": "text"
      },
      "source": [
        "## Logistic regression baseline - how well can we do on this dataset?\n",
        "\n",
        "Let's look at a simple, non Bayesian classification approach to get an idea of how well we can do on the dataset. "
      ]
    },
    {
      "cell_type": "code",
      "metadata": {
        "id": "Eft7ZXm64k_V",
        "colab_type": "code",
        "colab": {}
      },
      "source": [
        "lr = linear_model.LogisticRegression()"
      ],
      "execution_count": 0,
      "outputs": []
    },
    {
      "cell_type": "code",
      "metadata": {
        "id": "Lt9jDrhC4vYY",
        "colab_type": "code",
        "outputId": "46ce77be-df22-4c02-9d55-1a4fd2fd48ce",
        "colab": {
          "base_uri": "https://localhost:8080/",
          "height": 66
        }
      },
      "source": [
        "lr.fit(features, targets)\n",
        "lr.score(features, targets)"
      ],
      "execution_count": 9,
      "outputs": [
        {
          "output_type": "stream",
          "text": [
            "/usr/local/lib/python2.7/dist-packages/sklearn/linear_model/logistic.py:433: FutureWarning: Default solver will be changed to 'lbfgs' in 0.22. Specify a solver to silence this warning.\n",
            "  FutureWarning)\n"
          ],
          "name": "stderr"
        },
        {
          "output_type": "execute_result",
          "data": {
            "text/plain": [
              "0.9876977152899824"
            ]
          },
          "metadata": {
            "tags": []
          },
          "execution_count": 9
        }
      ]
    },
    {
      "cell_type": "markdown",
      "metadata": {
        "id": "jv5OaALJ0mnB",
        "colab_type": "text"
      },
      "source": [
        "## Utilities"
      ]
    },
    {
      "cell_type": "code",
      "metadata": {
        "id": "th2ZTE8S0ooa",
        "colab_type": "code",
        "colab": {}
      },
      "source": [
        "def get_shape_list(tensor):\n",
        "  return tensor.shape.as_list()"
      ],
      "execution_count": 0,
      "outputs": []
    },
    {
      "cell_type": "code",
      "metadata": {
        "id": "3D0d_XbW1a9I",
        "colab_type": "code",
        "colab": {}
      },
      "source": [
        "def get_sklearn_data_as_tensors(\n",
        "      features, targets, batch_size, dataset_name='breast_cancer'):\n",
        "  \"\"\"Read sklearn datasets as tf.Tensors.\n",
        "\n",
        "  Args:\n",
        "    batch_size: Integer or None. If None, the entire dataset is used.\n",
        "    dataset_name: A string, the name of the dataset.\n",
        "\n",
        "  Returns:\n",
        "    A tuple of size two containing two tensors of rank 2 `[B, F]`, the data\n",
        "    features and targets.\n",
        "  \"\"\"\n",
        "  dataset = tf.data.Dataset.from_tensor_slices((features, targets))\n",
        "  if batch_size:\n",
        "    # Shuffle, repeat, and batch the examples.\n",
        "    batched_dataset = dataset.shuffle(1000).repeat().batch(batch_size)\n",
        "  else:\n",
        "    batch_size = features.shape[0]\n",
        "    batched_dataset = dataset.repeat().batch(batch_size)\n",
        "\n",
        "  iterator = batched_dataset.make_one_shot_iterator()\n",
        "  batch_features, batch_targets = iterator.get_next()\n",
        "\n",
        "  data_dim = features.shape[1]\n",
        "  batch_features.set_shape([batch_size, data_dim])\n",
        "  batch_targets.set_shape([batch_size])\n",
        "\n",
        "  return batch_features, batch_targets"
      ],
      "execution_count": 0,
      "outputs": []
    },
    {
      "cell_type": "markdown",
      "metadata": {
        "id": "pd923omSze8D",
        "colab_type": "text"
      },
      "source": [
        "## Bayesian Logistic Regression - define the prior and the posterior\n",
        "\n",
        "We will learn a distribution over parameters, so we will first define prior distribution, and then a posterior distribution over parameters which we \n",
        "will learn.\n",
        "\n",
        "Both of these distibutions will be Gaussian."
      ]
    },
    {
      "cell_type": "markdown",
      "metadata": {
        "id": "rnekwuYW7zoq",
        "colab_type": "text"
      },
      "source": [
        "## Task: implement the posterior distribution\n",
        "\n",
        "You have to implement two functions \n",
        "\n",
        "\n",
        "1.   multi_normal, which takes as arguments the mean and the log scale of the normal distribution, and returns a tensorflow distribution object. Have a look at the TensorFlow distibutions package. \n",
        "2.   diagonal_gaussian_posterior which returns a tuple of two elements, one being the posterior distribution (a call to multi_normal) and the learned variables. Your task here is to define the variables we will learn. The argument `data_dims` tells you the size of the learned parameters, and thus the size of the variables of the distribution).\n",
        "\n"
      ]
    },
    {
      "cell_type": "code",
      "metadata": {
        "id": "Iugzul802iEC",
        "colab_type": "code",
        "colab": {}
      },
      "source": [
        "def multi_normal(loc, log_scale):\n",
        "  return tfp.distributions.MultivariateNormalDiag(loc, tf.math.exp(log_scale))\n",
        "\n",
        "def diagonal_gaussian_posterior(data_dims):\n",
        "  mean = tf.Variable(tf.zeros([data_dims], dtype=tf.float32), name=\"mean\")\n",
        "  \n",
        "  diag = tf.math.log(tf.ones([data_dims], dtype=tf.float32)) # diag log-covariance\n",
        "  log_scale = tf.Variable(diag , name=\"log_scale\")\n",
        " \n",
        "  learned_vars = [mean, log_scale]\n",
        "  return multi_normal(loc=mean, log_scale=log_scale), learned_vars"
      ],
      "execution_count": 0,
      "outputs": []
    },
    {
      "cell_type": "markdown",
      "metadata": {
        "id": "wJ80lrXNvDFi",
        "colab_type": "text"
      },
      "source": [
        "## Bayesian Logistic Regression - the model"
      ]
    },
    {
      "cell_type": "markdown",
      "metadata": {
        "id": "2v2PO8UC3qxi",
        "colab_type": "text"
      },
      "source": [
        "### Hypers"
      ]
    },
    {
      "cell_type": "code",
      "metadata": {
        "id": "Sg6V1IGO3r8p",
        "colab_type": "code",
        "colab": {}
      },
      "source": [
        "BATCH_SIZE = 500\n",
        "NUM_POSTERIOR_SAMPLES = 100"
      ],
      "execution_count": 0,
      "outputs": []
    },
    {
      "cell_type": "code",
      "metadata": {
        "id": "8AwA1Stfvbe_",
        "colab_type": "code",
        "colab": {}
      },
      "source": [
        "prior = multi_normal(loc=tf.zeros(data_dims), log_scale=tf.zeros(data_dims))\n",
        "posterior, learned_vars  = diagonal_gaussian_posterior(data_dims)"
      ],
      "execution_count": 0,
      "outputs": []
    },
    {
      "cell_type": "code",
      "metadata": {
        "id": "DimyoNcuwmS9",
        "colab_type": "code",
        "colab": {}
      },
      "source": [
        "def _predictions(logits):\n",
        "  return tf.to_float(logits >= 0)\n",
        "\n",
        "def _accuracy(targets, predictions):\n",
        "  # `predictions` have rank 2: batch_size, num_posterior samples.\n",
        "  # We expand dims the targets to compute the accuracy per sample.\n",
        "  targets = tf.expand_dims(targets, axis=1)\n",
        "  return tf.reduce_mean(tf.to_float(tf.equal(targets, predictions)))\n",
        "\n",
        "def linear_model(data, targets, posterior_samples):\n",
        "  num_posterior_samples = tf.shape(posterior_samples)[0]\n",
        "  logits = tf.matmul(data, posterior_samples, transpose_b=True)\n",
        "  # Make targets [B, 1] to use broadcasting.\n",
        "  targets = tf.expand_dims(targets, axis=1)\n",
        "  targets = targets * tf.ones([1, num_posterior_samples])\n",
        "\n",
        "  log_probs = - tf.nn.sigmoid_cross_entropy_with_logits(\n",
        "      labels=targets, logits=logits)\n",
        "  return log_probs, logits"
      ],
      "execution_count": 0,
      "outputs": []
    },
    {
      "cell_type": "markdown",
      "metadata": {
        "id": "W42eKG3v9MQn",
        "colab_type": "text"
      },
      "source": [
        "## Task: Run the model and return the components of the elbo"
      ]
    },
    {
      "cell_type": "code",
      "metadata": {
        "id": "4_eDfavd0XJo",
        "colab_type": "code",
        "colab": {}
      },
      "source": [
        "def run_model(posterior, num_samples):\n",
        "  # Sample from the posterior to obtain a set of parameters used for\n",
        "  # prediction. Use `num_samples` for the number of samples. \n",
        "  posterior_samples = posterior.sample(num_samples)\n",
        "\n",
        "  # Compute the log probs of the data under all the models we have sampled.\n",
        "  # These tensors are [num_samples, B]. Use the features and targets tensors.\n",
        "  log_probs, logits = linear_model(features, targets, posterior_samples)\n",
        "\n",
        "  # Compute the KL between the posterior and the prior.\n",
        "  # Note: since we use Gaussian distributions, the closed form of the \n",
        "  # KL can be computed. Remember that distributions are objects in TensorFlow!\n",
        "  kl = posterior.kl_divergence(prior)\n",
        "\n",
        "  # Sum over data. Normalize by dataset size to ensure that the gradients\n",
        "  # are not very different in magnitude when we change batch size.  \n",
        "  param_log_probs = tf.reduce_mean(log_probs, axis=0) * dataset_size\n",
        "  param_log_probs.shape.assert_is_compatible_with([num_samples])\n",
        "\n",
        "  return param_log_probs, kl, posterior_samples, logits "
      ],
      "execution_count": 0,
      "outputs": []
    },
    {
      "cell_type": "code",
      "metadata": {
        "id": "vN5pWJrnwf4V",
        "colab_type": "code",
        "colab": {
          "base_uri": "https://localhost:8080/",
          "height": 153
        },
        "outputId": "99129dbb-7f4c-41ce-a2db-fa179293c39d"
      },
      "source": [
        "param_log_probs, kl, posterior_samples, logits = run_model(\n",
        "      posterior, NUM_POSTERIOR_SAMPLES)\n",
        "predictions = _predictions(logits)\n",
        "accuracy = _accuracy(targets=targets, predictions=predictions)\n",
        "accuracy = tf.reduce_mean(accuracy)\n"
      ],
      "execution_count": 17,
      "outputs": [
        {
          "output_type": "stream",
          "text": [
            "WARNING: Logging before flag parsing goes to stderr.\n",
            "W0706 15:10:01.309685 140030529763200 deprecation.py:323] From /usr/local/lib/python2.7/dist-packages/tensorflow/python/ops/nn_impl.py:180: where (from tensorflow.python.ops.array_ops) is deprecated and will be removed in a future version.\n",
            "Instructions for updating:\n",
            "Use tf.where in 2.0, which has the same broadcast rule as np.where\n",
            "W0706 15:10:01.346157 140030529763200 deprecation.py:323] From <ipython-input-15-e4da80cc1f88>:2: to_float (from tensorflow.python.ops.math_ops) is deprecated and will be removed in a future version.\n",
            "Instructions for updating:\n",
            "Use `tf.cast` instead.\n"
          ],
          "name": "stderr"
        }
      ]
    },
    {
      "cell_type": "markdown",
      "metadata": {
        "id": "XE855A8__FbD",
        "colab_type": "text"
      },
      "source": [
        "## Task: compute the elbo from the log probs and the KL \n",
        "\n",
        "`per_sample_elbo` should have shape [num_samples], since we obtain a model prediction for each of the sampled parameters.  "
      ]
    },
    {
      "cell_type": "code",
      "metadata": {
        "id": "4J_L8B81_JBn",
        "colab_type": "code",
        "colab": {}
      },
      "source": [
        "per_sample_elbo = param_log_probs - kl\n",
        "elbo = tf.reduce_mean(per_sample_elbo)"
      ],
      "execution_count": 0,
      "outputs": []
    },
    {
      "cell_type": "markdown",
      "metadata": {
        "id": "xfwdvB2l154M",
        "colab_type": "text"
      },
      "source": [
        "## Training loop"
      ]
    },
    {
      "cell_type": "markdown",
      "metadata": {
        "id": "d2bpGEYV5cj-",
        "colab_type": "text"
      },
      "source": [
        "## Training the model via reparametrization"
      ]
    },
    {
      "cell_type": "code",
      "metadata": {
        "id": "cZ-7BFe7M-iB",
        "colab_type": "code",
        "colab": {}
      },
      "source": [
        "# Stochastic loss depends on the output of a sampling operation  (posterior samples)\n",
        "# but tensorflow implements reparametrization by default.\n",
        "per_sample_reparametrization_loss = - per_sample_elbo\n",
        "reparametrization_loss = tf.reduce_mean(per_sample_reparametrization_loss)"
      ],
      "execution_count": 0,
      "outputs": []
    },
    {
      "cell_type": "code",
      "metadata": {
        "id": "UBLPB0rNNOZS",
        "colab_type": "code",
        "colab": {}
      },
      "source": [
        "optimizer = tf.train.GradientDescentOptimizer(0.0001)\n",
        "reparam_min_op = optimizer.minimize(reparametrization_loss)"
      ],
      "execution_count": 0,
      "outputs": []
    },
    {
      "cell_type": "code",
      "metadata": {
        "id": "IIlHWgFjNfez",
        "colab_type": "code",
        "colab": {}
      },
      "source": [
        "NUM_ITERATIONS = 1000"
      ],
      "execution_count": 0,
      "outputs": []
    },
    {
      "cell_type": "code",
      "metadata": {
        "id": "ArWZCPDRNXhP",
        "colab_type": "code",
        "colab": {
          "base_uri": "https://localhost:8080/",
          "height": 1000
        },
        "outputId": "71c13e50-a3a8-4aa4-82f0-fadffd12ff3e"
      },
      "source": [
        "sess = tf.Session()\n",
        "\n",
        "# Initialize all variables\n",
        "sess.run(tf.initialize_all_variables())\n",
        "\n",
        "reparam_accuracies = []\n",
        "reparam_kls = []\n",
        "reparam_elbos = []\n",
        "\n",
        "for i in xrange(NUM_ITERATIONS):\n",
        "  sess.run(reparam_min_op)\n",
        "\n",
        "  if i % 10 == 0:\n",
        "    reparam_acc, reparam_kl, reparam_elbo = sess.run([accuracy, kl, elbo])\n",
        "    reparam_accuracies += [reparam_acc]\n",
        "    reparam_kls += [reparam_kl]\n",
        "    reparam_elbos += [reparam_elbo]\n",
        "\n",
        "    print('Iteration {}. Elbo {}. KL {}'.format(\n",
        "        i, reparam_elbo, reparam_kl))\n",
        "\n",
        "reparam_learned_mean, reparam_learned_log_scale = sess.run(learned_vars)"
      ],
      "execution_count": 22,
      "outputs": [
        {
          "output_type": "stream",
          "text": [
            "W0706 15:10:01.922456 140030529763200 deprecation.py:323] From /usr/local/lib/python2.7/dist-packages/tensorflow/python/util/tf_should_use.py:193: initialize_all_variables (from tensorflow.python.ops.variables) is deprecated and will be removed after 2017-03-02.\n",
            "Instructions for updating:\n",
            "Use `tf.global_variables_initializer` instead.\n"
          ],
          "name": "stderr"
        },
        {
          "output_type": "stream",
          "text": [
            "Iteration 0. Elbo -1251.31628418. KL 0.00287126004696\n",
            "Iteration 10. Elbo -697.800720215. KL 0.307448148727\n",
            "Iteration 20. Elbo -537.026550293. KL 0.765623211861\n",
            "Iteration 30. Elbo -435.274505615. KL 1.27441883087\n",
            "Iteration 40. Elbo -351.531005859. KL 1.71919393539\n",
            "Iteration 50. Elbo -303.941864014. KL 2.16450643539\n",
            "Iteration 60. Elbo -260.008758545. KL 2.56153178215\n",
            "Iteration 70. Elbo -263.777099609. KL 2.92100739479\n",
            "Iteration 80. Elbo -234.770721436. KL 3.26699590683\n",
            "Iteration 90. Elbo -239.377182007. KL 3.59330368042\n",
            "Iteration 100. Elbo -224.065063477. KL 3.88889718056\n",
            "Iteration 110. Elbo -187.876937866. KL 4.17269849777\n",
            "Iteration 120. Elbo -188.153579712. KL 4.45011806488\n",
            "Iteration 130. Elbo -175.901901245. KL 4.71661520004\n",
            "Iteration 140. Elbo -155.265014648. KL 4.97964668274\n",
            "Iteration 150. Elbo -164.109680176. KL 5.22092580795\n",
            "Iteration 160. Elbo -153.392990112. KL 5.46521854401\n",
            "Iteration 170. Elbo -166.389511108. KL 5.70708227158\n",
            "Iteration 180. Elbo -141.348587036. KL 5.93668699265\n",
            "Iteration 190. Elbo -144.340988159. KL 6.14716243744\n",
            "Iteration 200. Elbo -150.441848755. KL 6.34233903885\n",
            "Iteration 210. Elbo -125.198425293. KL 6.53200817108\n",
            "Iteration 220. Elbo -144.606735229. KL 6.72982215881\n",
            "Iteration 230. Elbo -124.996162415. KL 6.90616846085\n",
            "Iteration 240. Elbo -123.129951477. KL 7.0823802948\n",
            "Iteration 250. Elbo -116.140907288. KL 7.2649936676\n",
            "Iteration 260. Elbo -122.178184509. KL 7.44574928284\n",
            "Iteration 270. Elbo -127.089424133. KL 7.61699581146\n",
            "Iteration 280. Elbo -126.283309937. KL 7.78921937943\n",
            "Iteration 290. Elbo -117.368141174. KL 7.95003604889\n",
            "Iteration 300. Elbo -117.763244629. KL 8.10859680176\n",
            "Iteration 310. Elbo -115.204460144. KL 8.26020336151\n",
            "Iteration 320. Elbo -113.344589233. KL 8.4087677002\n",
            "Iteration 330. Elbo -119.965705872. KL 8.56992721558\n",
            "Iteration 340. Elbo -113.99962616. KL 8.71299934387\n",
            "Iteration 350. Elbo -105.818740845. KL 8.86545181274\n",
            "Iteration 360. Elbo -100.249084473. KL 9.0091381073\n",
            "Iteration 370. Elbo -110.714012146. KL 9.15460586548\n",
            "Iteration 380. Elbo -103.108894348. KL 9.28317070007\n",
            "Iteration 390. Elbo -105.591644287. KL 9.42404651642\n",
            "Iteration 400. Elbo -111.089073181. KL 9.55483055115\n",
            "Iteration 410. Elbo -104.87991333. KL 9.67768478394\n",
            "Iteration 420. Elbo -110.888923645. KL 9.80382919312\n",
            "Iteration 430. Elbo -103.24887085. KL 9.931016922\n",
            "Iteration 440. Elbo -109.799942017. KL 10.0544033051\n",
            "Iteration 450. Elbo -98.0338363647. KL 10.1714935303\n",
            "Iteration 460. Elbo -100.708076477. KL 10.2848911285\n",
            "Iteration 470. Elbo -101.14617157. KL 10.3957271576\n",
            "Iteration 480. Elbo -93.3948516846. KL 10.5126533508\n",
            "Iteration 490. Elbo -107.306007385. KL 10.6308822632\n",
            "Iteration 500. Elbo -100.181022644. KL 10.7451038361\n",
            "Iteration 510. Elbo -95.855255127. KL 10.8539943695\n",
            "Iteration 520. Elbo -100.132675171. KL 10.9568748474\n",
            "Iteration 530. Elbo -100.38646698. KL 11.0542888641\n",
            "Iteration 540. Elbo -94.6835021973. KL 11.1537256241\n",
            "Iteration 550. Elbo -94.338722229. KL 11.2570905685\n",
            "Iteration 560. Elbo -90.4855880737. KL 11.357252121\n",
            "Iteration 570. Elbo -98.0821456909. KL 11.4538021088\n",
            "Iteration 580. Elbo -93.8483581543. KL 11.5528078079\n",
            "Iteration 590. Elbo -94.2413787842. KL 11.650138855\n",
            "Iteration 600. Elbo -84.8176193237. KL 11.7399148941\n",
            "Iteration 610. Elbo -88.862487793. KL 11.8348445892\n",
            "Iteration 620. Elbo -90.7114181519. KL 11.9179830551\n",
            "Iteration 630. Elbo -89.9356384277. KL 12.0149831772\n",
            "Iteration 640. Elbo -91.7482910156. KL 12.1029577255\n",
            "Iteration 650. Elbo -89.2460861206. KL 12.1858530045\n",
            "Iteration 660. Elbo -91.8519744873. KL 12.2712144852\n",
            "Iteration 670. Elbo -91.9219665527. KL 12.3608808517\n",
            "Iteration 680. Elbo -90.779586792. KL 12.4472103119\n",
            "Iteration 690. Elbo -87.8686599731. KL 12.5342903137\n",
            "Iteration 700. Elbo -88.755279541. KL 12.6139793396\n",
            "Iteration 710. Elbo -89.0103912354. KL 12.6986293793\n",
            "Iteration 720. Elbo -91.2760543823. KL 12.7775554657\n",
            "Iteration 730. Elbo -84.5751495361. KL 12.8627347946\n",
            "Iteration 740. Elbo -88.3510131836. KL 12.946138382\n",
            "Iteration 750. Elbo -81.0643081665. KL 13.0226335526\n",
            "Iteration 760. Elbo -87.4532012939. KL 13.1025733948\n",
            "Iteration 770. Elbo -85.3113555908. KL 13.1825962067\n",
            "Iteration 780. Elbo -91.157623291. KL 13.2549219131\n",
            "Iteration 790. Elbo -82.2567977905. KL 13.3327140808\n",
            "Iteration 800. Elbo -84.6036605835. KL 13.4073734283\n",
            "Iteration 810. Elbo -88.7576293945. KL 13.4813165665\n",
            "Iteration 820. Elbo -86.5616226196. KL 13.5525226593\n",
            "Iteration 830. Elbo -84.7662887573. KL 13.6196088791\n",
            "Iteration 840. Elbo -86.3528594971. KL 13.6932125092\n",
            "Iteration 850. Elbo -81.4763946533. KL 13.7570486069\n",
            "Iteration 860. Elbo -83.6050796509. KL 13.8267087936\n",
            "Iteration 870. Elbo -80.9121170044. KL 13.892824173\n",
            "Iteration 880. Elbo -84.220993042. KL 13.9599637985\n",
            "Iteration 890. Elbo -81.2252044678. KL 14.0247545242\n",
            "Iteration 900. Elbo -84.1262969971. KL 14.0935535431\n",
            "Iteration 910. Elbo -82.5146560669. KL 14.1550140381\n",
            "Iteration 920. Elbo -85.5831832886. KL 14.2202100754\n",
            "Iteration 930. Elbo -84.2529678345. KL 14.2814331055\n",
            "Iteration 940. Elbo -84.1190109253. KL 14.3443193436\n",
            "Iteration 950. Elbo -82.031288147. KL 14.4068174362\n",
            "Iteration 960. Elbo -82.321395874. KL 14.4710903168\n",
            "Iteration 970. Elbo -80.7244949341. KL 14.5387954712\n",
            "Iteration 980. Elbo -79.9401016235. KL 14.5994224548\n",
            "Iteration 990. Elbo -82.4692764282. KL 14.6628885269\n"
          ],
          "name": "stdout"
        }
      ]
    },
    {
      "cell_type": "code",
      "metadata": {
        "id": "4Tbpa02jv_Dv",
        "colab_type": "code",
        "colab": {
          "base_uri": "https://localhost:8080/",
          "height": 366
        },
        "outputId": "bceaa1ad-ccf8-4c87-af79-8cfdf4522dd6"
      },
      "source": [
        "fig, axes = plt.subplots(1, 3, figsize=(3*8,5))\n",
        "\n",
        "axes[0].plot(reparam_elbos, label='ELBO')\n",
        "axes[0].set_title('Time', fontsize=15)\n",
        "axes[0].set_ylim((-500, -50))\n",
        "axes[0].legend()\n",
        "\n",
        "axes[1].plot(reparam_kls, label='KL')\n",
        "axes[1].set_title('Time', fontsize=15)\n",
        "axes[1].legend()\n",
        "\n",
        "axes[2].plot(reparam_accuracies, label='Accuracy')\n",
        "axes[2].set_title('Time', fontsize=15)\n",
        "axes[2].legend()"
      ],
      "execution_count": 23,
      "outputs": [
        {
          "output_type": "execute_result",
          "data": {
            "text/plain": [
              "<matplotlib.legend.Legend at 0x7f5ac2054710>"
            ]
          },
          "metadata": {
            "tags": []
          },
          "execution_count": 23
        },
        {
          "output_type": "display_data",
          "data": {
            "image/png": "[encoded data removed]",
            "text/plain": [
              "<Figure size 1728x360 with 3 Axes>"
            ]
          },
          "metadata": {
            "tags": []
          }
        }
      ]
    },
    {
      "cell_type": "markdown",
      "metadata": {
        "id": "qo-9zFbt5kii",
        "colab_type": "text"
      },
      "source": [
        "## Training the model via reinforce"
      ]
    },
    {
      "cell_type": "markdown",
      "metadata": {
        "id": "k25ZYFOU___p",
        "colab_type": "text"
      },
      "source": [
        "## Task: define the surrogate reinforce loss for the log prob term.\n",
        "\n",
        "Note: we do not need to use reinforce the KL term, since we can compute the KL analytically for the two Gaussians, and can use standard backprop. \n",
        "\n",
        "For the reinforce implementation, instead of changing the gradients, we will change the loss such that TensorFlow's automatic differentiation does the right thing. This is called a surrogate loss. \n",
        "\n",
        "The gradient we want to obtain is the following (since we want to minimize the loss, we add a minus):\n",
        "\\begin{equation}\n",
        "- \\mathbb{E}_{q_{\\theta}(w)} \\left[ \\nabla_{\\theta} \\log q_{\\theta}(w) \\mathbb{E}_{p^*(x, y)} \\log p(y| x, w) \\right]\n",
        "\\end{equation}\n",
        "\n",
        "so we need to construct a loss which has this gradient, by ensuring that the gradients will flow through the $\\log q_{\\theta}(w)$ term, but not the rest. "
      ]
    },
    {
      "cell_type": "code",
      "metadata": {
        "id": "nVSL5MhtSZj7",
        "colab_type": "code",
        "colab": {}
      },
      "source": [
        "# Since TensorFlow does automatic differentation, we have to use \n",
        "# tf.stop_gradient to ensure the gradient only flows to\n",
        "# the log_{q_\\theta}(w) term.\n",
        "per_sample_reinforce_loss =  -posterior.log_prob(tf.stop_gradient(posterior_samples)) * tf.stop_gradient(param_log_probs)   # Shape [num_samples, batch size].\n",
        "# Reduce now over the number of samples.\n",
        "reinforce_loss = tf.reduce_mean(per_sample_reinforce_loss) + kl"
      ],
      "execution_count": 0,
      "outputs": []
    },
    {
      "cell_type": "code",
      "metadata": {
        "colab_type": "code",
        "id": "WO4jbPvdTMd5",
        "colab": {}
      },
      "source": [
        "optimizer = tf.train.GradientDescentOptimizer(0.0001)\n",
        "reinforce_min_op = optimizer.minimize(reinforce_loss)"
      ],
      "execution_count": 0,
      "outputs": []
    },
    {
      "cell_type": "code",
      "metadata": {
        "colab_type": "code",
        "id": "GWpybmi6TMeD",
        "colab": {}
      },
      "source": [
        "NUM_ITERATIONS = 1000"
      ],
      "execution_count": 0,
      "outputs": []
    },
    {
      "cell_type": "code",
      "metadata": {
        "colab_type": "code",
        "id": "smLiPL7kTMeO",
        "colab": {
          "base_uri": "https://localhost:8080/",
          "height": 1000
        },
        "outputId": "1d19c153-5b66-401f-8022-2d6505f18218"
      },
      "source": [
        "reinforce_accuracies = []\n",
        "reinforce_kls = []\n",
        "reinforce_elbos = []\n",
        "\n",
        "sess = tf.Session()\n",
        "\n",
        "# Initialize all variables\n",
        "sess.run(tf.initialize_all_variables())\n",
        "\n",
        "for i in xrange(NUM_ITERATIONS):\n",
        "  sess.run(reinforce_min_op)\n",
        "\n",
        "  if i % 10 == 0:\n",
        "    reinforce_acc, reinforce_kl, reinforce_elbo = sess.run([accuracy, kl, elbo])\n",
        "    reinforce_accuracies += [reinforce_acc]\n",
        "    reinforce_kls += [reinforce_kl]\n",
        "    reinforce_elbos += [reinforce_elbo]\n",
        "\n",
        "    print('Iteration {}. Elbo {}. KL {}'.format(\n",
        "        i, reinforce_elbo, reinforce_kl))\n",
        "\n",
        "reinforce_learned_mean, reinforce_learned_log_scale = sess.run(learned_vars)"
      ],
      "execution_count": 39,
      "outputs": [
        {
          "output_type": "stream",
          "text": [
            "Iteration 0. Elbo -1116.80126953. KL 0.0217651166022\n",
            "Iteration 10. Elbo -687.183959961. KL 0.510267496109\n",
            "Iteration 20. Elbo -453.471405029. KL 1.03551530838\n",
            "Iteration 30. Elbo -410.559204102. KL 1.53315734863\n",
            "Iteration 40. Elbo -344.857574463. KL 2.00079274178\n",
            "Iteration 50. Elbo -295.77444458. KL 2.42567944527\n",
            "Iteration 60. Elbo -294.467803955. KL 2.85116958618\n",
            "Iteration 70. Elbo -245.117263794. KL 3.27838110924\n",
            "Iteration 80. Elbo -228.88848877. KL 3.60616755486\n",
            "Iteration 90. Elbo -222.709915161. KL 3.93956565857\n",
            "Iteration 100. Elbo -204.184204102. KL 4.27431440353\n",
            "Iteration 110. Elbo -186.381469727. KL 4.60125017166\n",
            "Iteration 120. Elbo -201.87689209. KL 4.86276388168\n",
            "Iteration 130. Elbo -173.708618164. KL 5.13902950287\n",
            "Iteration 140. Elbo -167.708618164. KL 5.33069610596\n",
            "Iteration 150. Elbo -168.621566772. KL 5.58919334412\n",
            "Iteration 160. Elbo -161.376098633. KL 5.81932401657\n",
            "Iteration 170. Elbo -158.452926636. KL 6.00672531128\n",
            "Iteration 180. Elbo -143.865905762. KL 6.19362735748\n",
            "Iteration 190. Elbo -140.297363281. KL 6.40803050995\n",
            "Iteration 200. Elbo -129.455200195. KL 6.6296453476\n",
            "Iteration 210. Elbo -138.195205688. KL 6.76893568039\n",
            "Iteration 220. Elbo -126.772705078. KL 6.96852207184\n",
            "Iteration 230. Elbo -127.587432861. KL 7.14093971252\n",
            "Iteration 240. Elbo -125.308326721. KL 7.34381103516\n",
            "Iteration 250. Elbo -125.432365417. KL 7.52608203888\n",
            "Iteration 260. Elbo -139.445022583. KL 7.72913169861\n",
            "Iteration 270. Elbo -113.273925781. KL 7.90194129944\n",
            "Iteration 280. Elbo -119.543899536. KL 8.02332878113\n",
            "Iteration 290. Elbo -111.953933716. KL 8.19211483002\n",
            "Iteration 300. Elbo -119.218818665. KL 8.35975170135\n",
            "Iteration 310. Elbo -119.145683289. KL 8.48949813843\n",
            "Iteration 320. Elbo -110.967712402. KL 8.67914581299\n",
            "Iteration 330. Elbo -109.579559326. KL 8.84544754028\n",
            "Iteration 340. Elbo -108.504173279. KL 8.99921131134\n",
            "Iteration 350. Elbo -102.252586365. KL 9.10935211182\n",
            "Iteration 360. Elbo -112.689689636. KL 9.25692558289\n",
            "Iteration 370. Elbo -107.4817276. KL 9.39167022705\n",
            "Iteration 380. Elbo -104.112724304. KL 9.48276615143\n",
            "Iteration 390. Elbo -111.464347839. KL 9.63346290588\n",
            "Iteration 400. Elbo -98.569732666. KL 9.75494194031\n",
            "Iteration 410. Elbo -107.651115417. KL 9.88669967651\n",
            "Iteration 420. Elbo -98.7607498169. KL 9.99015045166\n",
            "Iteration 430. Elbo -102.658576965. KL 10.0823078156\n",
            "Iteration 440. Elbo -101.766960144. KL 10.2478313446\n",
            "Iteration 450. Elbo -99.1033401489. KL 10.324262619\n",
            "Iteration 460. Elbo -97.9621887207. KL 10.4312391281\n",
            "Iteration 470. Elbo -97.7506942749. KL 10.5612602234\n",
            "Iteration 480. Elbo -96.5518188477. KL 10.7611818314\n",
            "Iteration 490. Elbo -101.28276062. KL 10.861623764\n",
            "Iteration 500. Elbo -95.2830963135. KL 10.9162893295\n",
            "Iteration 510. Elbo -94.7788162231. KL 10.9994258881\n",
            "Iteration 520. Elbo -97.3159790039. KL 11.1313438416\n",
            "Iteration 530. Elbo -97.5160675049. KL 11.2363739014\n",
            "Iteration 540. Elbo -95.607635498. KL 11.3185443878\n",
            "Iteration 550. Elbo -94.6198348999. KL 11.3863220215\n",
            "Iteration 560. Elbo -87.7221221924. KL 11.4867782593\n",
            "Iteration 570. Elbo -96.006942749. KL 11.6144142151\n",
            "Iteration 580. Elbo -104.44165802. KL 11.72914505\n",
            "Iteration 590. Elbo -92.0488891602. KL 11.847073555\n",
            "Iteration 600. Elbo -90.1584243774. KL 11.9548988342\n",
            "Iteration 610. Elbo -95.3857116699. KL 12.0338802338\n",
            "Iteration 620. Elbo -96.1010437012. KL 12.1311693192\n",
            "Iteration 630. Elbo -87.9766921997. KL 12.214723587\n",
            "Iteration 640. Elbo -90.6804580688. KL 12.3170566559\n",
            "Iteration 650. Elbo -86.4716186523. KL 12.4050207138\n",
            "Iteration 660. Elbo -92.253036499. KL 12.4865493774\n",
            "Iteration 670. Elbo -92.6006469727. KL 12.537147522\n",
            "Iteration 680. Elbo -84.3231277466. KL 12.6281881332\n",
            "Iteration 690. Elbo -86.8777084351. KL 12.700094223\n",
            "Iteration 700. Elbo -88.5244216919. KL 12.7614059448\n",
            "Iteration 710. Elbo -93.7727432251. KL 12.8245038986\n",
            "Iteration 720. Elbo -88.4225006104. KL 12.9040660858\n",
            "Iteration 730. Elbo -86.4209289551. KL 13.003074646\n",
            "Iteration 740. Elbo -89.3245773315. KL 13.066991806\n",
            "Iteration 750. Elbo -83.9625396729. KL 13.2090320587\n",
            "Iteration 760. Elbo -85.9223556519. KL 13.2696228027\n",
            "Iteration 770. Elbo -85.957244873. KL 13.3328294754\n",
            "Iteration 780. Elbo -87.6296005249. KL 13.3856296539\n",
            "Iteration 790. Elbo -89.4624404907. KL 13.4574918747\n",
            "Iteration 800. Elbo -87.6330337524. KL 13.5334854126\n",
            "Iteration 810. Elbo -84.2621459961. KL 13.5975008011\n",
            "Iteration 820. Elbo -80.3770599365. KL 13.6888542175\n",
            "Iteration 830. Elbo -84.3121948242. KL 13.7708616257\n",
            "Iteration 840. Elbo -84.4102020264. KL 13.8029575348\n",
            "Iteration 850. Elbo -84.5846176147. KL 13.8728990555\n",
            "Iteration 860. Elbo -86.505241394. KL 13.9493656158\n",
            "Iteration 870. Elbo -85.7620773315. KL 13.9937839508\n",
            "Iteration 880. Elbo -83.2697372437. KL 14.0379056931\n",
            "Iteration 890. Elbo -85.0736846924. KL 14.103433609\n",
            "Iteration 900. Elbo -84.2102050781. KL 14.1537284851\n",
            "Iteration 910. Elbo -81.9311141968. KL 14.1667337418\n",
            "Iteration 920. Elbo -85.272605896. KL 14.2589683533\n",
            "Iteration 930. Elbo -81.8618469238. KL 14.3228845596\n",
            "Iteration 940. Elbo -84.7690124512. KL 14.3466062546\n",
            "Iteration 950. Elbo -75.5114974976. KL 14.3993320465\n",
            "Iteration 960. Elbo -84.6055755615. KL 14.4412851334\n",
            "Iteration 970. Elbo -78.50365448. KL 14.5460262299\n",
            "Iteration 980. Elbo -82.2919311523. KL 14.6307439804\n",
            "Iteration 990. Elbo -81.2669372559. KL 14.7096118927\n"
          ],
          "name": "stdout"
        }
      ]
    },
    {
      "cell_type": "code",
      "metadata": {
        "id": "seGE32mI8s1r",
        "colab_type": "code",
        "colab": {
          "base_uri": "https://localhost:8080/",
          "height": 366
        },
        "outputId": "b6e33f44-2c60-4571-e8e8-b3b0ae0371f7"
      },
      "source": [
        "fig, axes = plt.subplots(1, 3, figsize=(3*8,5))\n",
        "\n",
        "axes[0].plot(reinforce_elbos, label='ELBO')\n",
        "axes[0].set_title('Time', fontsize=15)\n",
        "axes[0].set_ylim((-500, -50))\n",
        "axes[0].legend()\n",
        "\n",
        "axes[1].plot(reinforce_kls, label='KL')\n",
        "axes[1].set_title('Time', fontsize=15)\n",
        "axes[1].legend()\n",
        "\n",
        "axes[2].plot(reinforce_accuracies, label='Accuracy')\n",
        "axes[2].set_title('Time', fontsize=15)\n",
        "axes[2].legend()"
      ],
      "execution_count": 40,
      "outputs": [
        {
          "output_type": "execute_result",
          "data": {
            "text/plain": [
              "<matplotlib.legend.Legend at 0x7f5aadfff8d0>"
            ]
          },
          "metadata": {
            "tags": []
          },
          "execution_count": 40
        },
        {
          "output_type": "display_data",
          "data": {
            "image/png": "[encoded data removed]",
            "text/plain": [
              "<Figure size 1728x360 with 3 Axes>"
            ]
          },
          "metadata": {
            "tags": []
          }
        }
      ]
    },
    {
      "cell_type": "markdown",
      "metadata": {
        "id": "OQJ0iFv-6Xa-",
        "colab_type": "text"
      },
      "source": [
        "## Task: Analysis\n",
        "\n",
        "* How sensitive are the different estimators to the number of posterior samples used? Try 1, 10, 100.\n",
        "* How sensitive are the different estimators to the learning rate used? Try 1e-4, 1e-3 and 1e-2 for both estimators.\n",
        "* How sensitive are the different estimators to batch size? Try batch size 10 for both estimators."
      ]
    },
    {
      "cell_type": "markdown",
      "metadata": {
        "id": "kCcTNQsO5tE1",
        "colab_type": "text"
      },
      "source": [
        "# Visualize learned parameters\n",
        "\n",
        "* Let's visualize the learned parameters, as well as check the different uncertanties around different parameters\n",
        "* Can we now see which parameters are most important in the classification problem?"
      ]
    },
    {
      "cell_type": "code",
      "metadata": {
        "id": "VDHFNDkj7SPz",
        "colab_type": "code",
        "colab": {}
      },
      "source": [
        "learned_mean = reparam_learned_mean\n",
        "learned_scale = np.exp(reparam_learned_log_scale)"
      ],
      "execution_count": 0,
      "outputs": []
    },
    {
      "cell_type": "code",
      "metadata": {
        "id": "R5WoqVaZ9vGX",
        "colab_type": "code",
        "colab": {}
      },
      "source": [
        "PARAM_INDEX = 10"
      ],
      "execution_count": 0,
      "outputs": []
    },
    {
      "cell_type": "code",
      "metadata": {
        "id": "5wlSrBlz9Eeg",
        "colab_type": "code",
        "colab": {}
      },
      "source": [
        "def gaussian(x, mu, sig):\n",
        "    return np.exp(-np.power(x - mu, 2.) / (2 * np.power(sig, 2.)))"
      ],
      "execution_count": 0,
      "outputs": []
    },
    {
      "cell_type": "code",
      "metadata": {
        "id": "wxXoXzGo9FHV",
        "colab_type": "code",
        "colab": {
          "base_uri": "https://localhost:8080/",
          "height": 373
        },
        "outputId": "58beab2a-396c-45c7-c58f-852b346ce145"
      },
      "source": [
        "mean = learned_mean[PARAM_INDEX]\n",
        "scale = learned_scale[PARAM_INDEX]\n",
        "x_values = np.linspace(-3, 3, num=1000)\n",
        "y_values = [gaussian(x, mean, scale) for x in x_values]\n",
        "\n",
        "plt.figure(figsize=(7,5))\n",
        "plt.plot(x_values, y_values)\n",
        "plt.vlines(\n",
        "      learned_mean[PARAM_INDEX], \n",
        "      ymin=0, \n",
        "      ymax=gaussian(mean, mean, scale),\n",
        "      colors='g',\n",
        "      alpha=0.8)\n",
        "\n",
        "plt.grid('off')\n",
        "x_std_values = np.linspace(mean - scale, mean + scale, num=1000)\n",
        "y_std_values = [gaussian(x, mean, scale) for x in x_std_values]\n",
        "plt.fill_between(x_std_values, y_std_values, 0, alpha=0.3, color='b')\n",
        "\n",
        "plt.title('Parameter name= {}'.format(feature_names[PARAM_INDEX]))"
      ],
      "execution_count": 44,
      "outputs": [
        {
          "output_type": "execute_result",
          "data": {
            "text/plain": [
              "Text(0.5,1,'Parameter name= radius error')"
            ]
          },
          "metadata": {
            "tags": []
          },
          "execution_count": 44
        },
        {
          "output_type": "display_data",
          "data": {
            "image/png": "[encoded data removed]",
            "text/plain": [
              "<Figure size 504x360 with 1 Axes>"
            ]
          },
          "metadata": {
            "tags": []
          }
        }
      ]
    },
    {
      "cell_type": "markdown",
      "metadata": {
        "id": "gksr5bG06AQT",
        "colab_type": "text"
      },
      "source": [
        "## Visualize gradient variance - which estimator has lower variance?\n",
        "\n",
        "* Let's assess the gradient variance per of each estimator, by looking at how much gradients vary for each estimators. "
      ]
    },
    {
      "cell_type": "code",
      "metadata": {
        "id": "fUc9PsoXAAui",
        "colab_type": "code",
        "colab": {}
      },
      "source": [
        "def per_batch_grads(ys, xs):\n",
        "  \"\"\"Computes the gradients of ys[i] wrt xs.\"\"\"\n",
        "  grads = []\n",
        "\n",
        "  for y in tf.unstack(ys, axis=0):\n",
        "    grads.append(tf.squeeze(tf.gradients(y, xs)[0]))\n",
        "  return tf.stack(grads, axis=0)"
      ],
      "execution_count": 0,
      "outputs": []
    },
    {
      "cell_type": "code",
      "metadata": {
        "id": "HQ93_xwrA-OZ",
        "colab_type": "code",
        "colab": {}
      },
      "source": [
        "def compute_grad_var(grads, param_index):\n",
        "  return np.mean(grads[:, param_index]), np.std(grads[:, param_index])**2"
      ],
      "execution_count": 0,
      "outputs": []
    },
    {
      "cell_type": "code",
      "metadata": {
        "id": "_ee7sAMBAP7V",
        "colab_type": "code",
        "colab": {
          "base_uri": "https://localhost:8080/",
          "height": 33
        },
        "outputId": "e10667d1-3c07-4db7-e314-3585e821faa6"
      },
      "source": [
        "per_batch_reinforce_grads = per_batch_grads(per_sample_reinforce_loss, learned_vars[0])\n",
        "per_batch_reinforce_grads.shape"
      ],
      "execution_count": 47,
      "outputs": [
        {
          "output_type": "execute_result",
          "data": {
            "text/plain": [
              "TensorShape([Dimension(100), Dimension(31)])"
            ]
          },
          "metadata": {
            "tags": []
          },
          "execution_count": 47
        }
      ]
    },
    {
      "cell_type": "code",
      "metadata": {
        "id": "Fqjku6G5EmUR",
        "colab_type": "code",
        "colab": {
          "base_uri": "https://localhost:8080/",
          "height": 33
        },
        "outputId": "232dae86-8b1a-462c-a13c-52f141a01d2e"
      },
      "source": [
        "per_batch_reparam_grads = per_batch_grads(per_sample_reparametrization_loss, learned_vars[0])\n",
        "per_batch_reparam_grads.shape"
      ],
      "execution_count": 48,
      "outputs": [
        {
          "output_type": "execute_result",
          "data": {
            "text/plain": [
              "TensorShape([Dimension(100), Dimension(31)])"
            ]
          },
          "metadata": {
            "tags": []
          },
          "execution_count": 48
        }
      ]
    },
    {
      "cell_type": "code",
      "metadata": {
        "id": "uC5LrYVYAj66",
        "colab_type": "code",
        "colab": {}
      },
      "source": [
        "reinforce_grads = []\n",
        "\n",
        "sess = tf.Session()\n",
        "\n",
        "# Initialize all variables\n",
        "sess.run(tf.initialize_all_variables())\n",
        "\n",
        "for i in xrange(NUM_ITERATIONS):\n",
        "  sess.run(reinforce_min_op)\n",
        "\n",
        "  if i % 10 == 0:\n",
        "    reinforce_grads.append(sess.run(per_batch_reinforce_grads))"
      ],
      "execution_count": 0,
      "outputs": []
    },
    {
      "cell_type": "code",
      "metadata": {
        "id": "fifRpABRF5j4",
        "colab_type": "code",
        "colab": {}
      },
      "source": [
        "reparam_grads = []\n",
        "\n",
        "sess = tf.Session()\n",
        "\n",
        "# Initialize all variables\n",
        "sess.run(tf.initialize_all_variables())\n",
        "\n",
        "for i in xrange(NUM_ITERATIONS):\n",
        "  sess.run(reparam_min_op)\n",
        "\n",
        "  if i % 10 == 0:\n",
        "    reparam_grads.append(sess.run(per_batch_reparam_grads))"
      ],
      "execution_count": 0,
      "outputs": []
    },
    {
      "cell_type": "code",
      "metadata": {
        "id": "77PN9dRaCxF0",
        "colab_type": "code",
        "colab": {}
      },
      "source": [
        "PARAM_INDEX = 19"
      ],
      "execution_count": 0,
      "outputs": []
    },
    {
      "cell_type": "code",
      "metadata": {
        "id": "NXj7oslkBu9j",
        "colab_type": "code",
        "colab": {}
      },
      "source": [
        "reinforce_grad_vars = []\n",
        "for timestep_grad in reinforce_grads:\n",
        "  _, reinforce_grad_var = compute_grad_var(timestep_grad, PARAM_INDEX)\n",
        "  reinforce_grad_vars.append(reinforce_grad_var)"
      ],
      "execution_count": 0,
      "outputs": []
    },
    {
      "cell_type": "code",
      "metadata": {
        "id": "emEg7lOMGnSa",
        "colab_type": "code",
        "colab": {}
      },
      "source": [
        "reparam_grad_vars = []\n",
        "for timestep_grad in reparam_grads:\n",
        "  _, reparam_grad_var = compute_grad_var(timestep_grad, PARAM_INDEX)\n",
        "  reparam_grad_vars.append(reparam_grad_var)"
      ],
      "execution_count": 0,
      "outputs": []
    },
    {
      "cell_type": "code",
      "metadata": {
        "id": "wPsGH7elC0gH",
        "colab_type": "code",
        "colab": {
          "base_uri": "https://localhost:8080/",
          "height": 382
        },
        "outputId": "7d949aff-755d-43a0-a600-6b4475803f93"
      },
      "source": [
        "plt.figure(figsize=(7,5))\n",
        "plt.plot(reinforce_grad_vars, label='reinforce')\n",
        "plt.plot(reparam_grad_vars, label='reparametrization')\n",
        "plt.yscale('log')\n",
        "plt.xlabel('It')\n",
        "plt.ylabel('Gradient variance')\n",
        "plt.legend()"
      ],
      "execution_count": 54,
      "outputs": [
        {
          "output_type": "execute_result",
          "data": {
            "text/plain": [
              "<matplotlib.legend.Legend at 0x7f5a9ff56dd0>"
            ]
          },
          "metadata": {
            "tags": []
          },
          "execution_count": 54
        },
        {
          "output_type": "display_data",
          "data": {
            "image/png": "[encoded data removed]",
            "text/plain": [
              "<Figure size 504x360 with 1 Axes>"
            ]
          },
          "metadata": {
            "tags": []
          }
        }
      ]
    },
    {
      "cell_type": "markdown",
      "metadata": {
        "id": "OYfwIlI1Guoa",
        "colab_type": "text"
      },
      "source": [
        "### Task: Analysis\n",
        "\n",
        "* What do you notice about gradient variance as training progresses?\n",
        "* What do you notice about the variance of the different estimators?\n",
        "* How do batch size and number of posterior samples affect the variance of the different estimators?\n",
        "* How does gradient variance affect convergence?\n",
        "* Which gradient estimator would you use in practice for this problem?"
      ]
    },
    {
      "cell_type": "markdown",
      "metadata": {
        "id": "1A6FIHHnXEnW",
        "colab_type": "text"
      },
      "source": [
        "## More\n",
        "\n",
        "You can find similar experiments with more analysis and more gradient estimators in [this paper](https://arxiv.org/pdf/1906.10652.pdf). See Section 8.3."
      ]
    }
  ]
}